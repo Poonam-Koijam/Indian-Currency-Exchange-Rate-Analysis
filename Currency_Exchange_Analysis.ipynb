{
  "nbformat": 4,
  "nbformat_minor": 0,
  "metadata": {
    "colab": {
      "provenance": []
    },
    "kernelspec": {
      "name": "python3",
      "display_name": "Python 3"
    },
    "language_info": {
      "name": "python"
    }
  },
  "cells": [
    {
      "cell_type": "code",
      "execution_count": null,
      "metadata": {
        "id": "tr3rz0UKDTI-"
      },
      "outputs": [],
      "source": [
        "!pip install fredapi > /dev/null"
      ]
    },
    {
      "cell_type": "code",
      "source": [
        "import pandas as pd\n",
        "import numpy as np\n",
        "import matplotlib.pyplot as plt\n",
        "import plotly.express as px\n",
        "\n",
        "plt.style.use('fivethirtyeight')\n",
        "pd.set_option(\"display.max_columns\", 500)\n",
        "color_pal = plt.rcParams[\"axes.prop_cycle\"].by_key()['color']\n",
        "\n",
        "from fredapi import Fred\n",
        "\n",
        "fred_key = '141df9cc3c3fac09b9ad58c18366578b'"
      ],
      "metadata": {
        "id": "Ay4as8BND6kQ"
      },
      "execution_count": null,
      "outputs": []
    },
    {
      "cell_type": "code",
      "source": [
        "fred = Fred(api_key = fred_key)"
      ],
      "metadata": {
        "id": "GQRcOalAECer"
      },
      "execution_count": null,
      "outputs": []
    },
    {
      "cell_type": "code",
      "source": [
        "data = fred.search('Currency Conversions')\n",
        "data"
      ],
      "metadata": {
        "colab": {
          "base_uri": "https://localhost:8080/",
          "height": 1000
        },
        "id": "FmJ4u29tEmoM",
        "outputId": "be67c142-7adb-497c-d1ec-93fee1fd9a6a"
      },
      "execution_count": null,
      "outputs": [
        {
          "output_type": "execute_result",
          "data": {
            "text/plain": [
              "                                id realtime_start realtime_end  \\\n",
              "series id                                                        \n",
              "ARGCCUSMA02STM      ARGCCUSMA02STM     2024-03-27   2024-03-27   \n",
              "CCUSMA02RUM618N    CCUSMA02RUM618N     2024-03-27   2024-03-27   \n",
              "ARGCCUSMA02STQ      ARGCCUSMA02STQ     2024-03-27   2024-03-27   \n",
              "CCUSMA02RUA618N    CCUSMA02RUA618N     2024-03-27   2024-03-27   \n",
              "CCUSMA02RUQ618N    CCUSMA02RUQ618N     2024-03-27   2024-03-27   \n",
              "...                            ...            ...          ...   \n",
              "MKTGDPTOA646NWDB  MKTGDPTOA646NWDB     2024-03-27   2024-03-27   \n",
              "MKTGDPDMA646NWDB  MKTGDPDMA646NWDB     2024-03-27   2024-03-27   \n",
              "NYGDPMKTPCDLDC      NYGDPMKTPCDLDC     2024-03-27   2024-03-27   \n",
              "NYGDPMKTPCDLMC      NYGDPMKTPCDLMC     2024-03-27   2024-03-27   \n",
              "NYGDPMKTPCDSSF      NYGDPMKTPCDSSF     2024-03-27   2024-03-27   \n",
              "\n",
              "                                                              title  \\\n",
              "series id                                                             \n",
              "ARGCCUSMA02STM    Currency Conversions: US Dollar Exchange Rate:...   \n",
              "CCUSMA02RUM618N   Currency Conversions: US Dollar Exchange Rate:...   \n",
              "ARGCCUSMA02STQ    Currency Conversions: US Dollar Exchange Rate:...   \n",
              "CCUSMA02RUA618N   Currency Conversions: US Dollar Exchange Rate:...   \n",
              "CCUSMA02RUQ618N   Currency Conversions: US Dollar Exchange Rate:...   \n",
              "...                                                             ...   \n",
              "MKTGDPTOA646NWDB                   Gross Domestic Product for Tonga   \n",
              "MKTGDPDMA646NWDB                Gross Domestic Product for Dominica   \n",
              "NYGDPMKTPCDLDC    Gross Domestic Product for Least Developed Cou...   \n",
              "NYGDPMKTPCDLMC    Gross Domestic Product for Lower Middle Income...   \n",
              "NYGDPMKTPCDSSF    Gross Domestic Product: All Income Levels for ...   \n",
              "\n",
              "                 observation_start observation_end  frequency frequency_short  \\\n",
              "series id                                                                       \n",
              "ARGCCUSMA02STM          1960-01-01      2023-11-01    Monthly               M   \n",
              "CCUSMA02RUM618N         1992-06-01      2023-11-01    Monthly               M   \n",
              "ARGCCUSMA02STQ          1960-01-01      2023-07-01  Quarterly               Q   \n",
              "CCUSMA02RUA618N         1993-01-01      2022-01-01     Annual               A   \n",
              "CCUSMA02RUQ618N         1992-07-01      2023-07-01  Quarterly               Q   \n",
              "...                            ...             ...        ...             ...   \n",
              "MKTGDPTOA646NWDB        1975-01-01      2021-01-01     Annual               A   \n",
              "MKTGDPDMA646NWDB        1977-01-01      2022-01-01     Annual               A   \n",
              "NYGDPMKTPCDLDC          1980-01-01      2022-01-01     Annual               A   \n",
              "NYGDPMKTPCDLMC          1960-01-01      2022-01-01     Annual               A   \n",
              "NYGDPMKTPCDSSF          1960-01-01      2022-01-01     Annual               A   \n",
              "\n",
              "                                 units     units_short  \\\n",
              "series id                                                \n",
              "ARGCCUSMA02STM          Argentine Peso  Argentine Peso   \n",
              "CCUSMA02RUM618N          Russian Ruble   Russian Ruble   \n",
              "ARGCCUSMA02STQ          Argentine Peso  Argentine Peso   \n",
              "CCUSMA02RUA618N          Russian Ruble   Russian Ruble   \n",
              "CCUSMA02RUQ618N          Russian Ruble   Russian Ruble   \n",
              "...                                ...             ...   \n",
              "MKTGDPTOA646NWDB  Current U.S. Dollars       Current $   \n",
              "MKTGDPDMA646NWDB  Current U.S. Dollars       Current $   \n",
              "NYGDPMKTPCDLDC    Current U.S. Dollars       Current $   \n",
              "NYGDPMKTPCDLMC    Current U.S. Dollars       Current $   \n",
              "NYGDPMKTPCDSSF    Current U.S. Dollars       Current $   \n",
              "\n",
              "                      seasonal_adjustment seasonal_adjustment_short  \\\n",
              "series id                                                             \n",
              "ARGCCUSMA02STM    Not Seasonally Adjusted                       NSA   \n",
              "CCUSMA02RUM618N   Not Seasonally Adjusted                       NSA   \n",
              "ARGCCUSMA02STQ    Not Seasonally Adjusted                       NSA   \n",
              "CCUSMA02RUA618N   Not Seasonally Adjusted                       NSA   \n",
              "CCUSMA02RUQ618N   Not Seasonally Adjusted                       NSA   \n",
              "...                                   ...                       ...   \n",
              "MKTGDPTOA646NWDB  Not Seasonally Adjusted                       NSA   \n",
              "MKTGDPDMA646NWDB  Not Seasonally Adjusted                       NSA   \n",
              "NYGDPMKTPCDLDC    Not Seasonally Adjusted                       NSA   \n",
              "NYGDPMKTPCDLMC    Not Seasonally Adjusted                       NSA   \n",
              "NYGDPMKTPCDSSF    Not Seasonally Adjusted                       NSA   \n",
              "\n",
              "                               last_updated popularity  \\\n",
              "series id                                                \n",
              "ARGCCUSMA02STM    2024-01-12 14:29:03-06:00         41   \n",
              "CCUSMA02RUM618N   2024-01-12 14:15:03-06:00         39   \n",
              "ARGCCUSMA02STQ    2023-11-17 12:00:09-06:00          9   \n",
              "CCUSMA02RUA618N   2023-03-15 13:20:09-05:00          6   \n",
              "CCUSMA02RUQ618N   2023-11-17 11:44:02-06:00          5   \n",
              "...                                     ...        ...   \n",
              "MKTGDPTOA646NWDB  2023-12-19 13:45:45-06:00          0   \n",
              "MKTGDPDMA646NWDB  2023-12-19 13:45:45-06:00          0   \n",
              "NYGDPMKTPCDLDC    2024-02-21 14:13:24-06:00          0   \n",
              "NYGDPMKTPCDLMC    2024-02-21 14:13:24-06:00          0   \n",
              "NYGDPMKTPCDSSF    2024-02-21 14:13:24-06:00          0   \n",
              "\n",
              "                                                              notes  \n",
              "series id                                                            \n",
              "ARGCCUSMA02STM    OECD Descriptor ID: CCUSMA02 OECD unit ID: ARS...  \n",
              "CCUSMA02RUM618N   OECD Descriptor ID: CCUSMA02 OECD unit ID: RUB...  \n",
              "ARGCCUSMA02STQ    OECD Descriptor ID: CCUSMA02 OECD unit ID: ARS...  \n",
              "CCUSMA02RUA618N   OECD Descriptor ID: CCUSMA02 OECD unit ID: RUB...  \n",
              "CCUSMA02RUQ618N   OECD Descriptor ID: CCUSMA02 OECD unit ID: RUB...  \n",
              "...                                                             ...  \n",
              "MKTGDPTOA646NWDB  GDP at purchaser's prices is the sum of gross ...  \n",
              "MKTGDPDMA646NWDB  GDP at purchaser's prices is the sum of gross ...  \n",
              "NYGDPMKTPCDLDC    GDP at purchaser's prices is the sum of gross ...  \n",
              "NYGDPMKTPCDLMC    GDP at purchaser's prices is the sum of gross ...  \n",
              "NYGDPMKTPCDSSF    GDP at purchaser's prices is the sum of gross ...  \n",
              "\n",
              "[843 rows x 15 columns]"
            ],
            "text/html": [
              "\n",
              "  <div id=\"df-a5f40095-993b-492f-983a-5f284eb9a24d\" class=\"colab-df-container\">\n",
              "    <div>\n",
              "<style scoped>\n",
              "    .dataframe tbody tr th:only-of-type {\n",
              "        vertical-align: middle;\n",
              "    }\n",
              "\n",
              "    .dataframe tbody tr th {\n",
              "        vertical-align: top;\n",
              "    }\n",
              "\n",
              "    .dataframe thead th {\n",
              "        text-align: right;\n",
              "    }\n",
              "</style>\n",
              "<table border=\"1\" class=\"dataframe\">\n",
              "  <thead>\n",
              "    <tr style=\"text-align: right;\">\n",
              "      <th></th>\n",
              "      <th>id</th>\n",
              "      <th>realtime_start</th>\n",
              "      <th>realtime_end</th>\n",
              "      <th>title</th>\n",
              "      <th>observation_start</th>\n",
              "      <th>observation_end</th>\n",
              "      <th>frequency</th>\n",
              "      <th>frequency_short</th>\n",
              "      <th>units</th>\n",
              "      <th>units_short</th>\n",
              "      <th>seasonal_adjustment</th>\n",
              "      <th>seasonal_adjustment_short</th>\n",
              "      <th>last_updated</th>\n",
              "      <th>popularity</th>\n",
              "      <th>notes</th>\n",
              "    </tr>\n",
              "    <tr>\n",
              "      <th>series id</th>\n",
              "      <th></th>\n",
              "      <th></th>\n",
              "      <th></th>\n",
              "      <th></th>\n",
              "      <th></th>\n",
              "      <th></th>\n",
              "      <th></th>\n",
              "      <th></th>\n",
              "      <th></th>\n",
              "      <th></th>\n",
              "      <th></th>\n",
              "      <th></th>\n",
              "      <th></th>\n",
              "      <th></th>\n",
              "      <th></th>\n",
              "    </tr>\n",
              "  </thead>\n",
              "  <tbody>\n",
              "    <tr>\n",
              "      <th>ARGCCUSMA02STM</th>\n",
              "      <td>ARGCCUSMA02STM</td>\n",
              "      <td>2024-03-27</td>\n",
              "      <td>2024-03-27</td>\n",
              "      <td>Currency Conversions: US Dollar Exchange Rate:...</td>\n",
              "      <td>1960-01-01</td>\n",
              "      <td>2023-11-01</td>\n",
              "      <td>Monthly</td>\n",
              "      <td>M</td>\n",
              "      <td>Argentine Peso</td>\n",
              "      <td>Argentine Peso</td>\n",
              "      <td>Not Seasonally Adjusted</td>\n",
              "      <td>NSA</td>\n",
              "      <td>2024-01-12 14:29:03-06:00</td>\n",
              "      <td>41</td>\n",
              "      <td>OECD Descriptor ID: CCUSMA02 OECD unit ID: ARS...</td>\n",
              "    </tr>\n",
              "    <tr>\n",
              "      <th>CCUSMA02RUM618N</th>\n",
              "      <td>CCUSMA02RUM618N</td>\n",
              "      <td>2024-03-27</td>\n",
              "      <td>2024-03-27</td>\n",
              "      <td>Currency Conversions: US Dollar Exchange Rate:...</td>\n",
              "      <td>1992-06-01</td>\n",
              "      <td>2023-11-01</td>\n",
              "      <td>Monthly</td>\n",
              "      <td>M</td>\n",
              "      <td>Russian Ruble</td>\n",
              "      <td>Russian Ruble</td>\n",
              "      <td>Not Seasonally Adjusted</td>\n",
              "      <td>NSA</td>\n",
              "      <td>2024-01-12 14:15:03-06:00</td>\n",
              "      <td>39</td>\n",
              "      <td>OECD Descriptor ID: CCUSMA02 OECD unit ID: RUB...</td>\n",
              "    </tr>\n",
              "    <tr>\n",
              "      <th>ARGCCUSMA02STQ</th>\n",
              "      <td>ARGCCUSMA02STQ</td>\n",
              "      <td>2024-03-27</td>\n",
              "      <td>2024-03-27</td>\n",
              "      <td>Currency Conversions: US Dollar Exchange Rate:...</td>\n",
              "      <td>1960-01-01</td>\n",
              "      <td>2023-07-01</td>\n",
              "      <td>Quarterly</td>\n",
              "      <td>Q</td>\n",
              "      <td>Argentine Peso</td>\n",
              "      <td>Argentine Peso</td>\n",
              "      <td>Not Seasonally Adjusted</td>\n",
              "      <td>NSA</td>\n",
              "      <td>2023-11-17 12:00:09-06:00</td>\n",
              "      <td>9</td>\n",
              "      <td>OECD Descriptor ID: CCUSMA02 OECD unit ID: ARS...</td>\n",
              "    </tr>\n",
              "    <tr>\n",
              "      <th>CCUSMA02RUA618N</th>\n",
              "      <td>CCUSMA02RUA618N</td>\n",
              "      <td>2024-03-27</td>\n",
              "      <td>2024-03-27</td>\n",
              "      <td>Currency Conversions: US Dollar Exchange Rate:...</td>\n",
              "      <td>1993-01-01</td>\n",
              "      <td>2022-01-01</td>\n",
              "      <td>Annual</td>\n",
              "      <td>A</td>\n",
              "      <td>Russian Ruble</td>\n",
              "      <td>Russian Ruble</td>\n",
              "      <td>Not Seasonally Adjusted</td>\n",
              "      <td>NSA</td>\n",
              "      <td>2023-03-15 13:20:09-05:00</td>\n",
              "      <td>6</td>\n",
              "      <td>OECD Descriptor ID: CCUSMA02 OECD unit ID: RUB...</td>\n",
              "    </tr>\n",
              "    <tr>\n",
              "      <th>CCUSMA02RUQ618N</th>\n",
              "      <td>CCUSMA02RUQ618N</td>\n",
              "      <td>2024-03-27</td>\n",
              "      <td>2024-03-27</td>\n",
              "      <td>Currency Conversions: US Dollar Exchange Rate:...</td>\n",
              "      <td>1992-07-01</td>\n",
              "      <td>2023-07-01</td>\n",
              "      <td>Quarterly</td>\n",
              "      <td>Q</td>\n",
              "      <td>Russian Ruble</td>\n",
              "      <td>Russian Ruble</td>\n",
              "      <td>Not Seasonally Adjusted</td>\n",
              "      <td>NSA</td>\n",
              "      <td>2023-11-17 11:44:02-06:00</td>\n",
              "      <td>5</td>\n",
              "      <td>OECD Descriptor ID: CCUSMA02 OECD unit ID: RUB...</td>\n",
              "    </tr>\n",
              "    <tr>\n",
              "      <th>...</th>\n",
              "      <td>...</td>\n",
              "      <td>...</td>\n",
              "      <td>...</td>\n",
              "      <td>...</td>\n",
              "      <td>...</td>\n",
              "      <td>...</td>\n",
              "      <td>...</td>\n",
              "      <td>...</td>\n",
              "      <td>...</td>\n",
              "      <td>...</td>\n",
              "      <td>...</td>\n",
              "      <td>...</td>\n",
              "      <td>...</td>\n",
              "      <td>...</td>\n",
              "      <td>...</td>\n",
              "    </tr>\n",
              "    <tr>\n",
              "      <th>MKTGDPTOA646NWDB</th>\n",
              "      <td>MKTGDPTOA646NWDB</td>\n",
              "      <td>2024-03-27</td>\n",
              "      <td>2024-03-27</td>\n",
              "      <td>Gross Domestic Product for Tonga</td>\n",
              "      <td>1975-01-01</td>\n",
              "      <td>2021-01-01</td>\n",
              "      <td>Annual</td>\n",
              "      <td>A</td>\n",
              "      <td>Current U.S. Dollars</td>\n",
              "      <td>Current $</td>\n",
              "      <td>Not Seasonally Adjusted</td>\n",
              "      <td>NSA</td>\n",
              "      <td>2023-12-19 13:45:45-06:00</td>\n",
              "      <td>0</td>\n",
              "      <td>GDP at purchaser's prices is the sum of gross ...</td>\n",
              "    </tr>\n",
              "    <tr>\n",
              "      <th>MKTGDPDMA646NWDB</th>\n",
              "      <td>MKTGDPDMA646NWDB</td>\n",
              "      <td>2024-03-27</td>\n",
              "      <td>2024-03-27</td>\n",
              "      <td>Gross Domestic Product for Dominica</td>\n",
              "      <td>1977-01-01</td>\n",
              "      <td>2022-01-01</td>\n",
              "      <td>Annual</td>\n",
              "      <td>A</td>\n",
              "      <td>Current U.S. Dollars</td>\n",
              "      <td>Current $</td>\n",
              "      <td>Not Seasonally Adjusted</td>\n",
              "      <td>NSA</td>\n",
              "      <td>2023-12-19 13:45:45-06:00</td>\n",
              "      <td>0</td>\n",
              "      <td>GDP at purchaser's prices is the sum of gross ...</td>\n",
              "    </tr>\n",
              "    <tr>\n",
              "      <th>NYGDPMKTPCDLDC</th>\n",
              "      <td>NYGDPMKTPCDLDC</td>\n",
              "      <td>2024-03-27</td>\n",
              "      <td>2024-03-27</td>\n",
              "      <td>Gross Domestic Product for Least Developed Cou...</td>\n",
              "      <td>1980-01-01</td>\n",
              "      <td>2022-01-01</td>\n",
              "      <td>Annual</td>\n",
              "      <td>A</td>\n",
              "      <td>Current U.S. Dollars</td>\n",
              "      <td>Current $</td>\n",
              "      <td>Not Seasonally Adjusted</td>\n",
              "      <td>NSA</td>\n",
              "      <td>2024-02-21 14:13:24-06:00</td>\n",
              "      <td>0</td>\n",
              "      <td>GDP at purchaser's prices is the sum of gross ...</td>\n",
              "    </tr>\n",
              "    <tr>\n",
              "      <th>NYGDPMKTPCDLMC</th>\n",
              "      <td>NYGDPMKTPCDLMC</td>\n",
              "      <td>2024-03-27</td>\n",
              "      <td>2024-03-27</td>\n",
              "      <td>Gross Domestic Product for Lower Middle Income...</td>\n",
              "      <td>1960-01-01</td>\n",
              "      <td>2022-01-01</td>\n",
              "      <td>Annual</td>\n",
              "      <td>A</td>\n",
              "      <td>Current U.S. Dollars</td>\n",
              "      <td>Current $</td>\n",
              "      <td>Not Seasonally Adjusted</td>\n",
              "      <td>NSA</td>\n",
              "      <td>2024-02-21 14:13:24-06:00</td>\n",
              "      <td>0</td>\n",
              "      <td>GDP at purchaser's prices is the sum of gross ...</td>\n",
              "    </tr>\n",
              "    <tr>\n",
              "      <th>NYGDPMKTPCDSSF</th>\n",
              "      <td>NYGDPMKTPCDSSF</td>\n",
              "      <td>2024-03-27</td>\n",
              "      <td>2024-03-27</td>\n",
              "      <td>Gross Domestic Product: All Income Levels for ...</td>\n",
              "      <td>1960-01-01</td>\n",
              "      <td>2022-01-01</td>\n",
              "      <td>Annual</td>\n",
              "      <td>A</td>\n",
              "      <td>Current U.S. Dollars</td>\n",
              "      <td>Current $</td>\n",
              "      <td>Not Seasonally Adjusted</td>\n",
              "      <td>NSA</td>\n",
              "      <td>2024-02-21 14:13:24-06:00</td>\n",
              "      <td>0</td>\n",
              "      <td>GDP at purchaser's prices is the sum of gross ...</td>\n",
              "    </tr>\n",
              "  </tbody>\n",
              "</table>\n",
              "<p>843 rows × 15 columns</p>\n",
              "</div>\n",
              "    <div class=\"colab-df-buttons\">\n",
              "\n",
              "  <div class=\"colab-df-container\">\n",
              "    <button class=\"colab-df-convert\" onclick=\"convertToInteractive('df-a5f40095-993b-492f-983a-5f284eb9a24d')\"\n",
              "            title=\"Convert this dataframe to an interactive table.\"\n",
              "            style=\"display:none;\">\n",
              "\n",
              "  <svg xmlns=\"http://www.w3.org/2000/svg\" height=\"24px\" viewBox=\"0 -960 960 960\">\n",
              "    <path d=\"M120-120v-720h720v720H120Zm60-500h600v-160H180v160Zm220 220h160v-160H400v160Zm0 220h160v-160H400v160ZM180-400h160v-160H180v160Zm440 0h160v-160H620v160ZM180-180h160v-160H180v160Zm440 0h160v-160H620v160Z\"/>\n",
              "  </svg>\n",
              "    </button>\n",
              "\n",
              "  <style>\n",
              "    .colab-df-container {\n",
              "      display:flex;\n",
              "      gap: 12px;\n",
              "    }\n",
              "\n",
              "    .colab-df-convert {\n",
              "      background-color: #E8F0FE;\n",
              "      border: none;\n",
              "      border-radius: 50%;\n",
              "      cursor: pointer;\n",
              "      display: none;\n",
              "      fill: #1967D2;\n",
              "      height: 32px;\n",
              "      padding: 0 0 0 0;\n",
              "      width: 32px;\n",
              "    }\n",
              "\n",
              "    .colab-df-convert:hover {\n",
              "      background-color: #E2EBFA;\n",
              "      box-shadow: 0px 1px 2px rgba(60, 64, 67, 0.3), 0px 1px 3px 1px rgba(60, 64, 67, 0.15);\n",
              "      fill: #174EA6;\n",
              "    }\n",
              "\n",
              "    .colab-df-buttons div {\n",
              "      margin-bottom: 4px;\n",
              "    }\n",
              "\n",
              "    [theme=dark] .colab-df-convert {\n",
              "      background-color: #3B4455;\n",
              "      fill: #D2E3FC;\n",
              "    }\n",
              "\n",
              "    [theme=dark] .colab-df-convert:hover {\n",
              "      background-color: #434B5C;\n",
              "      box-shadow: 0px 1px 3px 1px rgba(0, 0, 0, 0.15);\n",
              "      filter: drop-shadow(0px 1px 2px rgba(0, 0, 0, 0.3));\n",
              "      fill: #FFFFFF;\n",
              "    }\n",
              "  </style>\n",
              "\n",
              "    <script>\n",
              "      const buttonEl =\n",
              "        document.querySelector('#df-a5f40095-993b-492f-983a-5f284eb9a24d button.colab-df-convert');\n",
              "      buttonEl.style.display =\n",
              "        google.colab.kernel.accessAllowed ? 'block' : 'none';\n",
              "\n",
              "      async function convertToInteractive(key) {\n",
              "        const element = document.querySelector('#df-a5f40095-993b-492f-983a-5f284eb9a24d');\n",
              "        const dataTable =\n",
              "          await google.colab.kernel.invokeFunction('convertToInteractive',\n",
              "                                                    [key], {});\n",
              "        if (!dataTable) return;\n",
              "\n",
              "        const docLinkHtml = 'Like what you see? Visit the ' +\n",
              "          '<a target=\"_blank\" href=https://colab.research.google.com/notebooks/data_table.ipynb>data table notebook</a>'\n",
              "          + ' to learn more about interactive tables.';\n",
              "        element.innerHTML = '';\n",
              "        dataTable['output_type'] = 'display_data';\n",
              "        await google.colab.output.renderOutput(dataTable, element);\n",
              "        const docLink = document.createElement('div');\n",
              "        docLink.innerHTML = docLinkHtml;\n",
              "        element.appendChild(docLink);\n",
              "      }\n",
              "    </script>\n",
              "  </div>\n",
              "\n",
              "\n",
              "<div id=\"df-5f0c42e6-cada-4c7e-b9d4-2a7bf451ef1c\">\n",
              "  <button class=\"colab-df-quickchart\" onclick=\"quickchart('df-5f0c42e6-cada-4c7e-b9d4-2a7bf451ef1c')\"\n",
              "            title=\"Suggest charts\"\n",
              "            style=\"display:none;\">\n",
              "\n",
              "<svg xmlns=\"http://www.w3.org/2000/svg\" height=\"24px\"viewBox=\"0 0 24 24\"\n",
              "     width=\"24px\">\n",
              "    <g>\n",
              "        <path d=\"M19 3H5c-1.1 0-2 .9-2 2v14c0 1.1.9 2 2 2h14c1.1 0 2-.9 2-2V5c0-1.1-.9-2-2-2zM9 17H7v-7h2v7zm4 0h-2V7h2v10zm4 0h-2v-4h2v4z\"/>\n",
              "    </g>\n",
              "</svg>\n",
              "  </button>\n",
              "\n",
              "<style>\n",
              "  .colab-df-quickchart {\n",
              "      --bg-color: #E8F0FE;\n",
              "      --fill-color: #1967D2;\n",
              "      --hover-bg-color: #E2EBFA;\n",
              "      --hover-fill-color: #174EA6;\n",
              "      --disabled-fill-color: #AAA;\n",
              "      --disabled-bg-color: #DDD;\n",
              "  }\n",
              "\n",
              "  [theme=dark] .colab-df-quickchart {\n",
              "      --bg-color: #3B4455;\n",
              "      --fill-color: #D2E3FC;\n",
              "      --hover-bg-color: #434B5C;\n",
              "      --hover-fill-color: #FFFFFF;\n",
              "      --disabled-bg-color: #3B4455;\n",
              "      --disabled-fill-color: #666;\n",
              "  }\n",
              "\n",
              "  .colab-df-quickchart {\n",
              "    background-color: var(--bg-color);\n",
              "    border: none;\n",
              "    border-radius: 50%;\n",
              "    cursor: pointer;\n",
              "    display: none;\n",
              "    fill: var(--fill-color);\n",
              "    height: 32px;\n",
              "    padding: 0;\n",
              "    width: 32px;\n",
              "  }\n",
              "\n",
              "  .colab-df-quickchart:hover {\n",
              "    background-color: var(--hover-bg-color);\n",
              "    box-shadow: 0 1px 2px rgba(60, 64, 67, 0.3), 0 1px 3px 1px rgba(60, 64, 67, 0.15);\n",
              "    fill: var(--button-hover-fill-color);\n",
              "  }\n",
              "\n",
              "  .colab-df-quickchart-complete:disabled,\n",
              "  .colab-df-quickchart-complete:disabled:hover {\n",
              "    background-color: var(--disabled-bg-color);\n",
              "    fill: var(--disabled-fill-color);\n",
              "    box-shadow: none;\n",
              "  }\n",
              "\n",
              "  .colab-df-spinner {\n",
              "    border: 2px solid var(--fill-color);\n",
              "    border-color: transparent;\n",
              "    border-bottom-color: var(--fill-color);\n",
              "    animation:\n",
              "      spin 1s steps(1) infinite;\n",
              "  }\n",
              "\n",
              "  @keyframes spin {\n",
              "    0% {\n",
              "      border-color: transparent;\n",
              "      border-bottom-color: var(--fill-color);\n",
              "      border-left-color: var(--fill-color);\n",
              "    }\n",
              "    20% {\n",
              "      border-color: transparent;\n",
              "      border-left-color: var(--fill-color);\n",
              "      border-top-color: var(--fill-color);\n",
              "    }\n",
              "    30% {\n",
              "      border-color: transparent;\n",
              "      border-left-color: var(--fill-color);\n",
              "      border-top-color: var(--fill-color);\n",
              "      border-right-color: var(--fill-color);\n",
              "    }\n",
              "    40% {\n",
              "      border-color: transparent;\n",
              "      border-right-color: var(--fill-color);\n",
              "      border-top-color: var(--fill-color);\n",
              "    }\n",
              "    60% {\n",
              "      border-color: transparent;\n",
              "      border-right-color: var(--fill-color);\n",
              "    }\n",
              "    80% {\n",
              "      border-color: transparent;\n",
              "      border-right-color: var(--fill-color);\n",
              "      border-bottom-color: var(--fill-color);\n",
              "    }\n",
              "    90% {\n",
              "      border-color: transparent;\n",
              "      border-bottom-color: var(--fill-color);\n",
              "    }\n",
              "  }\n",
              "</style>\n",
              "\n",
              "  <script>\n",
              "    async function quickchart(key) {\n",
              "      const quickchartButtonEl =\n",
              "        document.querySelector('#' + key + ' button');\n",
              "      quickchartButtonEl.disabled = true;  // To prevent multiple clicks.\n",
              "      quickchartButtonEl.classList.add('colab-df-spinner');\n",
              "      try {\n",
              "        const charts = await google.colab.kernel.invokeFunction(\n",
              "            'suggestCharts', [key], {});\n",
              "      } catch (error) {\n",
              "        console.error('Error during call to suggestCharts:', error);\n",
              "      }\n",
              "      quickchartButtonEl.classList.remove('colab-df-spinner');\n",
              "      quickchartButtonEl.classList.add('colab-df-quickchart-complete');\n",
              "    }\n",
              "    (() => {\n",
              "      let quickchartButtonEl =\n",
              "        document.querySelector('#df-5f0c42e6-cada-4c7e-b9d4-2a7bf451ef1c button');\n",
              "      quickchartButtonEl.style.display =\n",
              "        google.colab.kernel.accessAllowed ? 'block' : 'none';\n",
              "    })();\n",
              "  </script>\n",
              "</div>\n",
              "\n",
              "  <div id=\"id_5feb5ded-b09f-4e7e-b252-84ec16796705\">\n",
              "    <style>\n",
              "      .colab-df-generate {\n",
              "        background-color: #E8F0FE;\n",
              "        border: none;\n",
              "        border-radius: 50%;\n",
              "        cursor: pointer;\n",
              "        display: none;\n",
              "        fill: #1967D2;\n",
              "        height: 32px;\n",
              "        padding: 0 0 0 0;\n",
              "        width: 32px;\n",
              "      }\n",
              "\n",
              "      .colab-df-generate:hover {\n",
              "        background-color: #E2EBFA;\n",
              "        box-shadow: 0px 1px 2px rgba(60, 64, 67, 0.3), 0px 1px 3px 1px rgba(60, 64, 67, 0.15);\n",
              "        fill: #174EA6;\n",
              "      }\n",
              "\n",
              "      [theme=dark] .colab-df-generate {\n",
              "        background-color: #3B4455;\n",
              "        fill: #D2E3FC;\n",
              "      }\n",
              "\n",
              "      [theme=dark] .colab-df-generate:hover {\n",
              "        background-color: #434B5C;\n",
              "        box-shadow: 0px 1px 3px 1px rgba(0, 0, 0, 0.15);\n",
              "        filter: drop-shadow(0px 1px 2px rgba(0, 0, 0, 0.3));\n",
              "        fill: #FFFFFF;\n",
              "      }\n",
              "    </style>\n",
              "    <button class=\"colab-df-generate\" onclick=\"generateWithVariable('data')\"\n",
              "            title=\"Generate code using this dataframe.\"\n",
              "            style=\"display:none;\">\n",
              "\n",
              "  <svg xmlns=\"http://www.w3.org/2000/svg\" height=\"24px\"viewBox=\"0 0 24 24\"\n",
              "       width=\"24px\">\n",
              "    <path d=\"M7,19H8.4L18.45,9,17,7.55,7,17.6ZM5,21V16.75L18.45,3.32a2,2,0,0,1,2.83,0l1.4,1.43a1.91,1.91,0,0,1,.58,1.4,1.91,1.91,0,0,1-.58,1.4L9.25,21ZM18.45,9,17,7.55Zm-12,3A5.31,5.31,0,0,0,4.9,8.1,5.31,5.31,0,0,0,1,6.5,5.31,5.31,0,0,0,4.9,4.9,5.31,5.31,0,0,0,6.5,1,5.31,5.31,0,0,0,8.1,4.9,5.31,5.31,0,0,0,12,6.5,5.46,5.46,0,0,0,6.5,12Z\"/>\n",
              "  </svg>\n",
              "    </button>\n",
              "    <script>\n",
              "      (() => {\n",
              "      const buttonEl =\n",
              "        document.querySelector('#id_5feb5ded-b09f-4e7e-b252-84ec16796705 button.colab-df-generate');\n",
              "      buttonEl.style.display =\n",
              "        google.colab.kernel.accessAllowed ? 'block' : 'none';\n",
              "\n",
              "      buttonEl.onclick = () => {\n",
              "        google.colab.notebook.generateWithVariable('data');\n",
              "      }\n",
              "      })();\n",
              "    </script>\n",
              "  </div>\n",
              "\n",
              "    </div>\n",
              "  </div>\n"
            ],
            "application/vnd.google.colaboratory.intrinsic+json": {
              "type": "dataframe",
              "variable_name": "data",
              "summary": "{\n  \"name\": \"data\",\n  \"rows\": 843,\n  \"fields\": [\n    {\n      \"column\": \"series id\",\n      \"properties\": {\n        \"dtype\": \"string\",\n        \"num_unique_values\": 843,\n        \"samples\": [\n          \"CCRETT02ATA661N\",\n          \"CCUSSP01AUA650N\",\n          \"EXFRUS\"\n        ],\n        \"semantic_type\": \"\",\n        \"description\": \"\"\n      }\n    },\n    {\n      \"column\": \"id\",\n      \"properties\": {\n        \"dtype\": \"string\",\n        \"num_unique_values\": 843,\n        \"samples\": [\n          \"CCRETT02ATA661N\",\n          \"CCUSSP01AUA650N\",\n          \"EXFRUS\"\n        ],\n        \"semantic_type\": \"\",\n        \"description\": \"\"\n      }\n    },\n    {\n      \"column\": \"realtime_start\",\n      \"properties\": {\n        \"dtype\": \"date\",\n        \"min\": \"2024-03-27 00:00:00\",\n        \"max\": \"2024-03-27 00:00:00\",\n        \"num_unique_values\": 1,\n        \"samples\": [\n          \"2024-03-27 00:00:00\"\n        ],\n        \"semantic_type\": \"\",\n        \"description\": \"\"\n      }\n    },\n    {\n      \"column\": \"realtime_end\",\n      \"properties\": {\n        \"dtype\": \"date\",\n        \"min\": \"2024-03-27 00:00:00\",\n        \"max\": \"2024-03-27 00:00:00\",\n        \"num_unique_values\": 1,\n        \"samples\": [\n          \"2024-03-27 00:00:00\"\n        ],\n        \"semantic_type\": \"\",\n        \"description\": \"\"\n      }\n    },\n    {\n      \"column\": \"title\",\n      \"properties\": {\n        \"dtype\": \"string\",\n        \"num_unique_values\": 441,\n        \"samples\": [\n          \"Currency Conversions: US Dollar Exchange Rate: Average of Daily Rates: National Currency: USD for Slovak Republic\"\n        ],\n        \"semantic_type\": \"\",\n        \"description\": \"\"\n      }\n    },\n    {\n      \"column\": \"observation_start\",\n      \"properties\": {\n        \"dtype\": \"date\",\n        \"min\": \"1960-01-01 00:00:00\",\n        \"max\": \"2008-01-01 00:00:00\",\n        \"num_unique_values\": 50,\n        \"samples\": [\n          \"1968-01-01 00:00:00\"\n        ],\n        \"semantic_type\": \"\",\n        \"description\": \"\"\n      }\n    },\n    {\n      \"column\": \"observation_end\",\n      \"properties\": {\n        \"dtype\": \"date\",\n        \"min\": \"2000-12-01 00:00:00\",\n        \"max\": \"2023-12-01 00:00:00\",\n        \"num_unique_values\": 22,\n        \"samples\": [\n          \"2023-11-01 00:00:00\"\n        ],\n        \"semantic_type\": \"\",\n        \"description\": \"\"\n      }\n    },\n    {\n      \"column\": \"frequency\",\n      \"properties\": {\n        \"dtype\": \"category\",\n        \"num_unique_values\": 3,\n        \"samples\": [\n          \"Monthly\"\n        ],\n        \"semantic_type\": \"\",\n        \"description\": \"\"\n      }\n    },\n    {\n      \"column\": \"frequency_short\",\n      \"properties\": {\n        \"dtype\": \"category\",\n        \"num_unique_values\": 3,\n        \"samples\": [\n          \"M\"\n        ],\n        \"semantic_type\": \"\",\n        \"description\": \"\"\n      }\n    },\n    {\n      \"column\": \"units\",\n      \"properties\": {\n        \"dtype\": \"category\",\n        \"num_unique_values\": 48,\n        \"samples\": [\n          \"Forint\"\n        ],\n        \"semantic_type\": \"\",\n        \"description\": \"\"\n      }\n    },\n    {\n      \"column\": \"units_short\",\n      \"properties\": {\n        \"dtype\": \"category\",\n        \"num_unique_values\": 48,\n        \"samples\": [\n          \"Forint\"\n        ],\n        \"semantic_type\": \"\",\n        \"description\": \"\"\n      }\n    },\n    {\n      \"column\": \"seasonal_adjustment\",\n      \"properties\": {\n        \"dtype\": \"category\",\n        \"num_unique_values\": 2,\n        \"samples\": [\n          \"Seasonally Adjusted\"\n        ],\n        \"semantic_type\": \"\",\n        \"description\": \"\"\n      }\n    },\n    {\n      \"column\": \"seasonal_adjustment_short\",\n      \"properties\": {\n        \"dtype\": \"category\",\n        \"num_unique_values\": 2,\n        \"samples\": [\n          \"SA\"\n        ],\n        \"semantic_type\": \"\",\n        \"description\": \"\"\n      }\n    },\n    {\n      \"column\": \"last_updated\",\n      \"properties\": {\n        \"dtype\": \"category\",\n        \"num_unique_values\": 347,\n        \"samples\": [\n          \"2006-03-08 09:21:28-06:00\"\n        ],\n        \"semantic_type\": \"\",\n        \"description\": \"\"\n      }\n    },\n    {\n      \"column\": \"popularity\",\n      \"properties\": {\n        \"dtype\": \"category\",\n        \"num_unique_values\": 38,\n        \"samples\": [\n          \"25\"\n        ],\n        \"semantic_type\": \"\",\n        \"description\": \"\"\n      }\n    },\n    {\n      \"column\": \"notes\",\n      \"properties\": {\n        \"dtype\": \"category\",\n        \"num_unique_values\": 246,\n        \"samples\": [\n          \"OECD Descriptor ID: CCUSMA02 OECD unit ID: PC OECD country ID: CAN  All OECD data should be cited as follows: OECD, \\\"Main Economic Indicators - complete database\\\", Main Economic Indicators (database), https://dx.doi.org/10.1787/data-00052-en (Accessed on date) Copyright, 2016, OECD. Reprinted with permission\"\n        ],\n        \"semantic_type\": \"\",\n        \"description\": \"\"\n      }\n    }\n  ]\n}"
            }
          },
          "metadata": {},
          "execution_count": 4
        }
      ]
    },
    {
      "cell_type": "code",
      "source": [
        "data = fred.get_series('CCUSMA02INM618N')\n",
        "data.name = 'values'\n",
        "data"
      ],
      "metadata": {
        "colab": {
          "base_uri": "https://localhost:8080/"
        },
        "id": "fRTwXRTdEmhq",
        "outputId": "77fd085d-5977-47aa-f922-f08b60dc3ad4"
      },
      "execution_count": null,
      "outputs": [
        {
          "output_type": "execute_result",
          "data": {
            "text/plain": [
              "1957-01-01          NaN\n",
              "1957-02-01          NaN\n",
              "1957-03-01          NaN\n",
              "1957-04-01          NaN\n",
              "1957-05-01          NaN\n",
              "                ...    \n",
              "2023-08-01    82.785386\n",
              "2023-09-01    83.047460\n",
              "2023-10-01    83.235335\n",
              "2023-11-01    83.298005\n",
              "2023-12-01    83.299360\n",
              "Name: values, Length: 804, dtype: float64"
            ]
          },
          "metadata": {},
          "execution_count": 190
        }
      ]
    },
    {
      "cell_type": "code",
      "source": [
        "data.to_csv('Currency.csv')"
      ],
      "metadata": {
        "id": "9O9xNWhzanPq"
      },
      "execution_count": null,
      "outputs": []
    },
    {
      "cell_type": "code",
      "source": [
        "data = pd.read_csv('Currency.csv')"
      ],
      "metadata": {
        "id": "gTOzJAjMawCz"
      },
      "execution_count": null,
      "outputs": []
    },
    {
      "cell_type": "code",
      "source": [
        "data = data.reset_index()['values']\n",
        "data"
      ],
      "metadata": {
        "colab": {
          "base_uri": "https://localhost:8080/"
        },
        "id": "JMLi44S2a5Zf",
        "outputId": "835e017b-5a95-4503-c514-e87211318c32"
      },
      "execution_count": null,
      "outputs": [
        {
          "output_type": "execute_result",
          "data": {
            "text/plain": [
              "0            NaN\n",
              "1            NaN\n",
              "2            NaN\n",
              "3            NaN\n",
              "4            NaN\n",
              "         ...    \n",
              "799    82.785386\n",
              "800    83.047460\n",
              "801    83.235335\n",
              "802    83.298005\n",
              "803    83.299360\n",
              "Name: values, Length: 804, dtype: float64"
            ]
          },
          "metadata": {},
          "execution_count": 194
        }
      ]
    },
    {
      "cell_type": "code",
      "source": [
        "data = data.dropna(axis = 0)\n",
        "data"
      ],
      "metadata": {
        "colab": {
          "base_uri": "https://localhost:8080/"
        },
        "id": "SgScudpIa9N5",
        "outputId": "865dd0e8-4185-4fc7-cc09-8fd443f82e46"
      },
      "execution_count": null,
      "outputs": [
        {
          "output_type": "execute_result",
          "data": {
            "text/plain": [
              "36      4.761900\n",
              "37      4.761900\n",
              "38      4.761900\n",
              "39      4.761900\n",
              "40      4.761900\n",
              "         ...    \n",
              "799    82.785386\n",
              "800    83.047460\n",
              "801    83.235335\n",
              "802    83.298005\n",
              "803    83.299360\n",
              "Name: values, Length: 768, dtype: float64"
            ]
          },
          "metadata": {},
          "execution_count": 196
        }
      ]
    },
    {
      "cell_type": "code",
      "source": [
        "data.tail()"
      ],
      "metadata": {
        "colab": {
          "base_uri": "https://localhost:8080/"
        },
        "id": "2cOf5v8sHKjA",
        "outputId": "4c47fdbd-8e24-4cc2-ef0c-6ef06b753ae2"
      },
      "execution_count": null,
      "outputs": [
        {
          "output_type": "execute_result",
          "data": {
            "text/plain": [
              "799    82.785386\n",
              "800    83.047460\n",
              "801    83.235335\n",
              "802    83.298005\n",
              "803    83.299360\n",
              "Name: values, dtype: float64"
            ]
          },
          "metadata": {},
          "execution_count": 197
        }
      ]
    },
    {
      "cell_type": "code",
      "source": [
        "data.shape"
      ],
      "metadata": {
        "colab": {
          "base_uri": "https://localhost:8080/"
        },
        "id": "LJrKmd4qbJ3c",
        "outputId": "9d006f46-1e3d-4d0b-ffa0-0eff3377361d"
      },
      "execution_count": null,
      "outputs": [
        {
          "output_type": "execute_result",
          "data": {
            "text/plain": [
              "(768,)"
            ]
          },
          "metadata": {},
          "execution_count": 198
        }
      ]
    },
    {
      "cell_type": "code",
      "source": [
        "plt.plot(data)"
      ],
      "metadata": {
        "colab": {
          "base_uri": "https://localhost:8080/",
          "height": 466
        },
        "id": "fHw9o-9tbcn-",
        "outputId": "5b30568e-f972-41f5-ef68-0c2d8d072ea9"
      },
      "execution_count": null,
      "outputs": [
        {
          "output_type": "execute_result",
          "data": {
            "text/plain": [
              "[<matplotlib.lines.Line2D at 0x78fec0c99600>]"
            ]
          },
          "metadata": {},
          "execution_count": 199
        },
        {
          "output_type": "display_data",
          "data": {
            "text/plain": [
              "<Figure size 640x480 with 1 Axes>"
            ],
            "image/png": "[encoded data removed]"
          },
          "metadata": {}
        }
      ]
    },
    {
      "cell_type": "code",
      "source": [
        "from sklearn.preprocessing import MinMaxScaler\n",
        "scaler=MinMaxScaler(feature_range=(0,1))\n",
        "data=scaler.fit_transform(np.array(data).reshape(-1,1))"
      ],
      "metadata": {
        "id": "fVIRBWgRbjHJ"
      },
      "execution_count": null,
      "outputs": []
    },
    {
      "cell_type": "code",
      "source": [
        "##splitting dataset into train and test split\n",
        "training_size=int(len(data)*0.65)\n",
        "test_size=len(data)-training_size\n",
        "\n",
        "train_data, test_data=data[0:training_size,:],data[training_size:len(data),:1]"
      ],
      "metadata": {
        "id": "PIhJOaJTbo4T"
      },
      "execution_count": null,
      "outputs": []
    },
    {
      "cell_type": "code",
      "source": [
        "training_size,test_size"
      ],
      "metadata": {
        "colab": {
          "base_uri": "https://localhost:8080/"
        },
        "id": "xJapJHLYb6Ex",
        "outputId": "07dc9262-810d-4723-a83e-ef3086adea98"
      },
      "execution_count": null,
      "outputs": [
        {
          "output_type": "execute_result",
          "data": {
            "text/plain": [
              "(499, 269)"
            ]
          },
          "metadata": {},
          "execution_count": 202
        }
      ]
    },
    {
      "cell_type": "code",
      "source": [
        "train_data"
      ],
      "metadata": {
        "colab": {
          "base_uri": "https://localhost:8080/"
        },
        "id": "1-ibtscTb7oV",
        "outputId": "1f634f57-4c24-487f-cc05-f80dcc0d2e0d"
      },
      "execution_count": null,
      "outputs": [
        {
          "output_type": "execute_result",
          "data": {
            "text/plain": [
              "array([[0.        ],\n",
              "       [0.        ],\n",
              "       [0.        ],\n",
              "       [0.        ],\n",
              "       [0.        ],\n",
              "       [0.        ],\n",
              "       [0.        ],\n",
              "       [0.        ],\n",
              "       [0.        ],\n",
              "       [0.        ],\n",
              "       [0.        ],\n",
              "       [0.        ],\n",
              "       [0.        ],\n",
              "       [0.        ],\n",
              "       [0.        ],\n",
              "       [0.        ],\n",
              "       [0.        ],\n",
              "       [0.        ],\n",
              "       [0.        ],\n",
              "       [0.        ],\n",
              "       [0.        ],\n",
              "       [0.        ],\n",
              "       [0.        ],\n",
              "       [0.        ],\n",
              "       [0.        ],\n",
              "       [0.        ],\n",
              "       [0.        ],\n",
              "       [0.        ],\n",
              "       [0.        ],\n",
              "       [0.        ],\n",
              "       [0.        ],\n",
              "       [0.        ],\n",
              "       [0.        ],\n",
              "       [0.        ],\n",
              "       [0.        ],\n",
              "       [0.        ],\n",
              "       [0.        ],\n",
              "       [0.        ],\n",
              "       [0.        ],\n",
              "       [0.        ],\n",
              "       [0.        ],\n",
              "       [0.        ],\n",
              "       [0.        ],\n",
              "       [0.        ],\n",
              "       [0.        ],\n",
              "       [0.        ],\n",
              "       [0.        ],\n",
              "       [0.        ],\n",
              "       [0.        ],\n",
              "       [0.        ],\n",
              "       [0.        ],\n",
              "       [0.        ],\n",
              "       [0.        ],\n",
              "       [0.        ],\n",
              "       [0.        ],\n",
              "       [0.        ],\n",
              "       [0.        ],\n",
              "       [0.        ],\n",
              "       [0.        ],\n",
              "       [0.        ],\n",
              "       [0.        ],\n",
              "       [0.        ],\n",
              "       [0.        ],\n",
              "       [0.        ],\n",
              "       [0.        ],\n",
              "       [0.        ],\n",
              "       [0.        ],\n",
              "       [0.        ],\n",
              "       [0.        ],\n",
              "       [0.        ],\n",
              "       [0.        ],\n",
              "       [0.        ],\n",
              "       [0.        ],\n",
              "       [0.        ],\n",
              "       [0.        ],\n",
              "       [0.        ],\n",
              "       [0.        ],\n",
              "       [0.03486362],\n",
              "       [0.03486362],\n",
              "       [0.03486362],\n",
              "       [0.03486362],\n",
              "       [0.03486362],\n",
              "       [0.03486362],\n",
              "       [0.03486362],\n",
              "       [0.03486362],\n",
              "       [0.03486362],\n",
              "       [0.03486362],\n",
              "       [0.03486362],\n",
              "       [0.03486362],\n",
              "       [0.03486362],\n",
              "       [0.03486362],\n",
              "       [0.03486362],\n",
              "       [0.03486362],\n",
              "       [0.03486362],\n",
              "       [0.03486362],\n",
              "       [0.03486362],\n",
              "       [0.03486362],\n",
              "       [0.03486362],\n",
              "       [0.03486362],\n",
              "       [0.03486362],\n",
              "       [0.03486362],\n",
              "       [0.03486362],\n",
              "       [0.03486362],\n",
              "       [0.03486362],\n",
              "       [0.03486362],\n",
              "       [0.03486362],\n",
              "       [0.03486362],\n",
              "       [0.03486362],\n",
              "       [0.03486362],\n",
              "       [0.03486362],\n",
              "       [0.03486362],\n",
              "       [0.03486362],\n",
              "       [0.03486362],\n",
              "       [0.03486362],\n",
              "       [0.03486362],\n",
              "       [0.03486362],\n",
              "       [0.03486362],\n",
              "       [0.03486362],\n",
              "       [0.03486362],\n",
              "       [0.03486362],\n",
              "       [0.03486362],\n",
              "       [0.03486362],\n",
              "       [0.03486362],\n",
              "       [0.03486362],\n",
              "       [0.03486362],\n",
              "       [0.03486362],\n",
              "       [0.03486362],\n",
              "       [0.03486362],\n",
              "       [0.03486362],\n",
              "       [0.03486362],\n",
              "       [0.03486362],\n",
              "       [0.03486362],\n",
              "       [0.03486362],\n",
              "       [0.03486362],\n",
              "       [0.03486362],\n",
              "       [0.03486362],\n",
              "       [0.03486362],\n",
              "       [0.03486362],\n",
              "       [0.03486362],\n",
              "       [0.03486362],\n",
              "       [0.03486362],\n",
              "       [0.03486362],\n",
              "       [0.03486362],\n",
              "       [0.03363137],\n",
              "       [0.03326733],\n",
              "       [0.03211145],\n",
              "       [0.0315141 ],\n",
              "       [0.03190251],\n",
              "       [0.03182859],\n",
              "       [0.03312213],\n",
              "       [0.03822476],\n",
              "       [0.03794158],\n",
              "       [0.03830926],\n",
              "       [0.04016558],\n",
              "       [0.04205148],\n",
              "       [0.04235879],\n",
              "       [0.04187787],\n",
              "       [0.03892039],\n",
              "       [0.03686972],\n",
              "       [0.03663138],\n",
              "       [0.03478728],\n",
              "       [0.03312213],\n",
              "       [0.03437433],\n",
              "       [0.03686972],\n",
              "       [0.03912317],\n",
              "       [0.03883484],\n",
              "       [0.04042158],\n",
              "       [0.04351287],\n",
              "       [0.0479629 ],\n",
              "       [0.04552735],\n",
              "       [0.04262606],\n",
              "       [0.04050184],\n",
              "       [0.03941318],\n",
              "       [0.04042158],\n",
              "       [0.04050184],\n",
              "       [0.04231715],\n",
              "       [0.04364934],\n",
              "       [0.0429284 ],\n",
              "       [0.04221736],\n",
              "       [0.04221736],\n",
              "       [0.03978401],\n",
              "       [0.0390763 ],\n",
              "       [0.03799503],\n",
              "       [0.03994265],\n",
              "       [0.04213435],\n",
              "       [0.04364934],\n",
              "       [0.04745588],\n",
              "       [0.05135352],\n",
              "       [0.05224702],\n",
              "       [0.05244752],\n",
              "       [0.0527496 ],\n",
              "       [0.05335863],\n",
              "       [0.05285065],\n",
              "       [0.05295189],\n",
              "       [0.05344033],\n",
              "       [0.05477409],\n",
              "       [0.05498367],\n",
              "       [0.05455485],\n",
              "       [0.05307361],\n",
              "       [0.05320576],\n",
              "       [0.05433643],\n",
              "       [0.053033  ],\n",
              "       [0.0527496 ],\n",
              "       [0.05155085],\n",
              "       [0.05206718],\n",
              "       [0.05211708],\n",
              "       [0.0516894 ],\n",
              "       [0.05157062],\n",
              "       [0.05162008],\n",
              "       [0.05158051],\n",
              "       [0.05140279],\n",
              "       [0.05024185],\n",
              "       [0.05003947],\n",
              "       [0.04857765],\n",
              "       [0.04925626],\n",
              "       [0.04744671],\n",
              "       [0.04265957],\n",
              "       [0.04230883],\n",
              "       [0.04400929],\n",
              "       [0.04726354],\n",
              "       [0.04865263],\n",
              "       [0.04552735],\n",
              "       [0.04235879],\n",
              "       [0.04185312],\n",
              "       [0.0414096 ],\n",
              "       [0.04010976],\n",
              "       [0.04437173],\n",
              "       [0.04370061],\n",
              "       [0.04362372],\n",
              "       [0.04393195],\n",
              "       [0.04344477],\n",
              "       [0.04388045],\n",
              "       [0.04429385],\n",
              "       [0.04224229],\n",
              "       [0.03959431],\n",
              "       [0.04150783],\n",
              "       [0.04251731],\n",
              "       [0.04388903],\n",
              "       [0.04293683],\n",
              "       [0.04211777],\n",
              "       [0.04041356],\n",
              "       [0.04033343],\n",
              "       [0.04267633],\n",
              "       [0.04187787],\n",
              "       [0.03968907],\n",
              "       [0.03909192],\n",
              "       [0.0380256 ],\n",
              "       [0.03826315],\n",
              "       [0.03773597],\n",
              "       [0.03753878],\n",
              "       [0.0382862 ],\n",
              "       [0.03988707],\n",
              "       [0.04049381],\n",
              "       [0.04355548],\n",
              "       [0.04391477],\n",
              "       [0.04442371],\n",
              "       [0.04621328],\n",
              "       [0.04869955],\n",
              "       [0.05230709],\n",
              "       [0.05386089],\n",
              "       [0.05512031],\n",
              "       [0.05595764],\n",
              "       [0.05537341],\n",
              "       [0.05545803],\n",
              "       [0.05554276],\n",
              "       [0.05633249],\n",
              "       [0.05747165],\n",
              "       [0.05852161],\n",
              "       [0.05747165],\n",
              "       [0.05940906],\n",
              "       [0.06079424],\n",
              "       [0.06101465],\n",
              "       [0.06184545],\n",
              "       [0.06243736],\n",
              "       [0.06357789],\n",
              "       [0.06267572],\n",
              "       [0.06402784],\n",
              "       [0.06547235],\n",
              "       [0.06630207],\n",
              "       [0.06641606],\n",
              "       [0.06661921],\n",
              "       [0.06736113],\n",
              "       [0.06777418],\n",
              "       [0.06885805],\n",
              "       [0.06909553],\n",
              "       [0.06954648],\n",
              "       [0.07114979],\n",
              "       [0.07283506],\n",
              "       [0.07582496],\n",
              "       [0.07632154],\n",
              "       [0.07623241],\n",
              "       [0.07730197],\n",
              "       [0.07979759],\n",
              "       [0.08011591],\n",
              "       [0.08375748],\n",
              "       [0.08673695],\n",
              "       [0.08992015],\n",
              "       [0.09317974],\n",
              "       [0.09321794],\n",
              "       [0.09613374],\n",
              "       [0.10000451],\n",
              "       [0.10410446],\n",
              "       [0.10437185],\n",
              "       [0.09833651],\n",
              "       [0.09911321],\n",
              "       [0.09804366],\n",
              "       [0.09259403],\n",
              "       [0.09133349],\n",
              "       [0.09440209],\n",
              "       [0.09251763],\n",
              "       [0.09325614],\n",
              "       [0.09419836],\n",
              "       [0.09566263],\n",
              "       [0.09692318],\n",
              "       [0.09582816],\n",
              "       [0.09729243],\n",
              "       [0.09832378],\n",
              "       [0.09995358],\n",
              "       [0.09869303],\n",
              "       [0.09950793],\n",
              "       [0.10090853],\n",
              "       [0.10303491],\n",
              "       [0.10606531],\n",
              "       [0.1070712 ],\n",
              "       [0.10540321],\n",
              "       [0.10575972],\n",
              "       [0.10409173],\n",
              "       [0.1024874 ],\n",
              "       [0.10098493],\n",
              "       [0.10285665],\n",
              "       [0.10523768],\n",
              "       [0.10616717],\n",
              "       [0.10516128],\n",
              "       [0.10564513],\n",
              "       [0.1047411 ],\n",
              "       [0.10430819],\n",
              "       [0.10560693],\n",
              "       [0.10582339],\n",
              "       [0.10489389],\n",
              "       [0.10747865],\n",
              "       [0.10889199],\n",
              "       [0.1146854 ],\n",
              "       [0.11878535],\n",
              "       [0.12077167],\n",
              "       [0.12387847],\n",
              "       [0.12698526],\n",
              "       [0.13011753],\n",
              "       [0.13093242],\n",
              "       [0.13179825],\n",
              "       [0.13356811],\n",
              "       [0.13645845],\n",
              "       [0.13967984],\n",
              "       [0.14465836],\n",
              "       [0.14893657],\n",
              "       [0.14872011],\n",
              "       [0.15084649],\n",
              "       [0.15282007],\n",
              "       [0.15399148],\n",
              "       [0.15499737],\n",
              "       [0.1550865 ],\n",
              "       [0.15537936],\n",
              "       [0.15585047],\n",
              "       [0.15735294],\n",
              "       [0.15939018],\n",
              "       [0.15989949],\n",
              "       [0.16131283],\n",
              "       [0.16112184],\n",
              "       [0.16062526],\n",
              "       [0.16688979],\n",
              "       [0.16920715],\n",
              "       [0.16966553],\n",
              "       [0.17013665],\n",
              "       [0.17274686],\n",
              "       [0.17943157],\n",
              "       [0.18439736],\n",
              "       [0.19322117],\n",
              "       [0.2013727 ],\n",
              "       [0.20757101],\n",
              "       [0.26503404],\n",
              "       [0.2680517 ],\n",
              "       [0.26889207],\n",
              "       [0.26879021],\n",
              "       [0.26896846],\n",
              "       [0.2688284 ],\n",
              "       [0.26936318],\n",
              "       [0.26957964],\n",
              "       [0.2690194 ],\n",
              "       [0.2690194 ],\n",
              "       [0.2690194 ],\n",
              "       [0.2690194 ],\n",
              "       [0.2690194 ],\n",
              "       [0.2690194 ],\n",
              "       [0.2690194 ],\n",
              "       [0.2690194 ],\n",
              "       [0.2690194 ],\n",
              "       [0.27240631],\n",
              "       [0.27296656],\n",
              "       [0.27296656],\n",
              "       [0.33739441],\n",
              "       [0.33799285],\n",
              "       [0.33822968],\n",
              "       [0.3392152 ],\n",
              "       [0.33879502],\n",
              "       [0.33883321],\n",
              "       [0.338801  ],\n",
              "       [0.33879502],\n",
              "       [0.33879502],\n",
              "       [0.33880049],\n",
              "       [0.33879502],\n",
              "       [0.33879502],\n",
              "       [0.33882825],\n",
              "       [0.33880202],\n",
              "       [0.33879502],\n",
              "       [0.33880075],\n",
              "       [0.338801  ],\n",
              "       [0.3388066 ],\n",
              "       [0.33880075],\n",
              "       [0.338801  ],\n",
              "       [0.33906126],\n",
              "       [0.33902535],\n",
              "       [0.33883958],\n",
              "       [0.33889548],\n",
              "       [0.34235459],\n",
              "       [0.33935793],\n",
              "       [0.33938187],\n",
              "       [0.33920017],\n",
              "       [0.33890414],\n",
              "       [0.34159623],\n",
              "       [0.3628918 ],\n",
              "       [0.37942531],\n",
              "       [0.38179552],\n",
              "       [0.38441185],\n",
              "       [0.39477072],\n",
              "       [0.40552814],\n",
              "       [0.37795136],\n",
              "       [0.37533172],\n",
              "       [0.3848622 ],\n",
              "       [0.38488105],\n",
              "       [0.39161783],\n",
              "       [0.39382481],\n",
              "       [0.39432266],\n",
              "       [0.39319581],\n",
              "       [0.3943904 ],\n",
              "       [0.39568927],\n",
              "       [0.39612282],\n",
              "       [0.39632807],\n",
              "       [0.39613491],\n",
              "       [0.39544378],\n",
              "       [0.39536484],\n",
              "       [0.39533466],\n",
              "       [0.39438747],\n",
              "       [0.39680555],\n",
              "       [0.40303493],\n",
              "       [0.40067058],\n",
              "       [0.41242396],\n",
              "       [0.43878972],\n",
              "       [0.44049808],\n",
              "       [0.43483823],\n",
              "       [0.44236457],\n",
              "       [0.44427704],\n",
              "       [0.45341433],\n",
              "       [0.47729873],\n",
              "       [0.48064376],\n",
              "       [0.48377424],\n",
              "       [0.48077707],\n",
              "       [0.47853725],\n",
              "       [0.47894648],\n",
              "       [0.48119942],\n",
              "       [0.48061269],\n",
              "       [0.48005398],\n",
              "       [0.47970446],\n",
              "       [0.48338844],\n",
              "       [0.48396077],\n",
              "       [0.48862505],\n",
              "       [0.4905235 ],\n",
              "       [0.49274588],\n",
              "       [0.49372974],\n",
              "       [0.4926579 ],\n",
              "       [0.49194346],\n",
              "       [0.49304981],\n",
              "       [0.49390444],\n",
              "       [0.49468063],\n",
              "       [0.49437135],\n",
              "       [0.49501346],\n",
              "       [0.49923374],\n",
              "       [0.50840771],\n",
              "       [0.50951737],\n",
              "       [0.52115156],\n",
              "       [0.52366221],\n",
              "       [0.52958053],\n",
              "       [0.53503602],\n",
              "       [0.53463188],\n",
              "       [0.53195125],\n",
              "       [0.53168246],\n",
              "       [0.53297624],\n",
              "       [0.53508351],\n",
              "       [0.53675494],\n",
              "       [0.5378753 ],\n",
              "       [0.53961409]])"
            ]
          },
          "metadata": {},
          "execution_count": 203
        }
      ]
    },
    {
      "cell_type": "code",
      "source": [
        "import numpy\n",
        "# convert an array of values into a dataset matrix\n",
        "def create_dataset(dataset, time_step=1):\n",
        "\tdataX, dataY = [], []\n",
        "\tfor i in range(len(dataset)-time_step-1):\n",
        "\t\ta = dataset[i:(i+time_step), 0]   ###i=0, 0,1,2,3-----99   100\n",
        "\t\tdataX.append(a)\n",
        "\t\tdataY.append(dataset[i + time_step, 0])\n",
        "\treturn numpy.array(dataX), numpy.array(dataY)"
      ],
      "metadata": {
        "id": "842eM1TgcCKp"
      },
      "execution_count": null,
      "outputs": []
    },
    {
      "cell_type": "code",
      "source": [
        "# reshape into X=t,t+1,t+2,t+3 and Y=t+4\n",
        "time_step = 50\n",
        "X_train, y_train = create_dataset(train_data, time_step)\n",
        "X_test, ytest = create_dataset(test_data, time_step)"
      ],
      "metadata": {
        "id": "Qx7cTP5bcHkp"
      },
      "execution_count": null,
      "outputs": []
    },
    {
      "cell_type": "code",
      "source": [
        "print(X_train.shape), print(y_train.shape)"
      ],
      "metadata": {
        "colab": {
          "base_uri": "https://localhost:8080/"
        },
        "id": "fCFwjb_pcKoq",
        "outputId": "d3a6814b-a43d-4ad3-e6e9-02333fdd54c7"
      },
      "execution_count": null,
      "outputs": [
        {
          "output_type": "stream",
          "name": "stdout",
          "text": [
            "(448, 50)\n",
            "(448,)\n"
          ]
        },
        {
          "output_type": "execute_result",
          "data": {
            "text/plain": [
              "(None, None)"
            ]
          },
          "metadata": {},
          "execution_count": 234
        }
      ]
    },
    {
      "cell_type": "code",
      "source": [
        "print(X_test.shape), print(ytest.shape)"
      ],
      "metadata": {
        "colab": {
          "base_uri": "https://localhost:8080/"
        },
        "id": "JmPNlbqZcPKR",
        "outputId": "f294d239-ddab-4b13-99b5-8f66af0b525f"
      },
      "execution_count": null,
      "outputs": [
        {
          "output_type": "stream",
          "name": "stdout",
          "text": [
            "(218, 50)\n",
            "(218,)\n"
          ]
        },
        {
          "output_type": "execute_result",
          "data": {
            "text/plain": [
              "(None, None)"
            ]
          },
          "metadata": {},
          "execution_count": 235
        }
      ]
    },
    {
      "cell_type": "code",
      "source": [
        "# reshape input to be [samples, time steps, features] which is required for LSTM\n",
        "X_train =X_train.reshape(X_train.shape[0],X_train.shape[1] , 1)\n",
        "X_test = X_test.reshape(X_test.shape[0],X_test.shape[1] , 1)"
      ],
      "metadata": {
        "id": "ZDowsbC6cS-Y"
      },
      "execution_count": null,
      "outputs": []
    },
    {
      "cell_type": "code",
      "source": [
        "### Create the Stacked LSTM model\n",
        "from tensorflow.keras.models import Sequential\n",
        "from tensorflow.keras.layers import Dense\n",
        "from tensorflow.keras.layers import LSTM"
      ],
      "metadata": {
        "id": "P7JkPhaKcV9L"
      },
      "execution_count": null,
      "outputs": []
    },
    {
      "cell_type": "code",
      "source": [
        "model=Sequential()\n",
        "model.add(LSTM(50,return_sequences=True,input_shape=(50,1)))\n",
        "model.add(LSTM(50,return_sequences=True))\n",
        "model.add(LSTM(50))\n",
        "model.add(Dense(1))\n",
        "model.compile(loss='mean_squared_error',optimizer='adam')"
      ],
      "metadata": {
        "id": "Ut3qV3-OcYsZ"
      },
      "execution_count": null,
      "outputs": []
    },
    {
      "cell_type": "code",
      "source": [
        "model.summary()"
      ],
      "metadata": {
        "colab": {
          "base_uri": "https://localhost:8080/"
        },
        "id": "ShUaOIZgcaV-",
        "outputId": "52b9b947-8510-463c-f861-f5ec56056a43"
      },
      "execution_count": null,
      "outputs": [
        {
          "output_type": "stream",
          "name": "stdout",
          "text": [
            "Model: \"sequential_14\"\n",
            "_________________________________________________________________\n",
            " Layer (type)                Output Shape              Param #   \n",
            "=================================================================\n",
            " lstm_36 (LSTM)              (None, 50, 50)            10400     \n",
            "                                                                 \n",
            " lstm_37 (LSTM)              (None, 50, 50)            20200     \n",
            "                                                                 \n",
            " lstm_38 (LSTM)              (None, 50)                20200     \n",
            "                                                                 \n",
            " dense_12 (Dense)            (None, 1)                 51        \n",
            "                                                                 \n",
            "=================================================================\n",
            "Total params: 50851 (198.64 KB)\n",
            "Trainable params: 50851 (198.64 KB)\n",
            "Non-trainable params: 0 (0.00 Byte)\n",
            "_________________________________________________________________\n"
          ]
        }
      ]
    },
    {
      "cell_type": "code",
      "source": [
        "model.fit(X_train,y_train,validation_data=(X_test,ytest),epochs=200,batch_size=64,verbose=1)"
      ],
      "metadata": {
        "colab": {
          "base_uri": "https://localhost:8080/"
        },
        "id": "MYH49zHmcjoz",
        "outputId": "f2875bc4-b4d6-4606-b747-2806c3f54aa8"
      },
      "execution_count": null,
      "outputs": [
        {
          "output_type": "stream",
          "name": "stdout",
          "text": [
            "Epoch 1/100\n",
            "7/7 [==============================] - 8s 306ms/step - loss: 0.0147 - val_loss: 0.0034\n",
            "Epoch 2/100\n",
            "7/7 [==============================] - 1s 106ms/step - loss: 0.0029 - val_loss: 0.0210\n",
            "Epoch 3/100\n",
            "7/7 [==============================] - 1s 103ms/step - loss: 0.0014 - val_loss: 0.0152\n",
            "Epoch 4/100\n",
            "7/7 [==============================] - 1s 99ms/step - loss: 5.6534e-04 - val_loss: 0.0059\n",
            "Epoch 5/100\n",
            "7/7 [==============================] - 1s 100ms/step - loss: 4.4295e-04 - val_loss: 0.0023\n",
            "Epoch 6/100\n",
            "7/7 [==============================] - 1s 99ms/step - loss: 3.3795e-04 - val_loss: 0.0041\n",
            "Epoch 7/100\n",
            "7/7 [==============================] - 1s 100ms/step - loss: 3.1284e-04 - val_loss: 0.0022\n",
            "Epoch 8/100\n",
            "7/7 [==============================] - 1s 98ms/step - loss: 2.4941e-04 - val_loss: 0.0034\n",
            "Epoch 9/100\n",
            "7/7 [==============================] - 1s 99ms/step - loss: 2.3822e-04 - val_loss: 0.0028\n",
            "Epoch 10/100\n",
            "7/7 [==============================] - 1s 98ms/step - loss: 2.3050e-04 - val_loss: 0.0037\n",
            "Epoch 11/100\n",
            "7/7 [==============================] - 1s 99ms/step - loss: 2.2913e-04 - val_loss: 0.0029\n",
            "Epoch 12/100\n",
            "7/7 [==============================] - 1s 100ms/step - loss: 2.3808e-04 - val_loss: 0.0040\n",
            "Epoch 13/100\n",
            "7/7 [==============================] - 1s 109ms/step - loss: 2.2334e-04 - val_loss: 0.0034\n",
            "Epoch 14/100\n",
            "7/7 [==============================] - 1s 177ms/step - loss: 2.2021e-04 - val_loss: 0.0045\n",
            "Epoch 15/100\n",
            "7/7 [==============================] - 1s 189ms/step - loss: 2.2621e-04 - val_loss: 0.0037\n",
            "Epoch 16/100\n",
            "7/7 [==============================] - 1s 104ms/step - loss: 2.2093e-04 - val_loss: 0.0046\n",
            "Epoch 17/100\n",
            "7/7 [==============================] - 1s 99ms/step - loss: 2.1985e-04 - val_loss: 0.0039\n",
            "Epoch 18/100\n",
            "7/7 [==============================] - 1s 100ms/step - loss: 2.2596e-04 - val_loss: 0.0048\n",
            "Epoch 19/100\n",
            "7/7 [==============================] - 1s 99ms/step - loss: 2.1277e-04 - val_loss: 0.0048\n",
            "Epoch 20/100\n",
            "7/7 [==============================] - 1s 101ms/step - loss: 2.1239e-04 - val_loss: 0.0047\n",
            "Epoch 21/100\n",
            "7/7 [==============================] - 1s 111ms/step - loss: 2.1652e-04 - val_loss: 0.0054\n",
            "Epoch 22/100\n",
            "7/7 [==============================] - 1s 114ms/step - loss: 2.1476e-04 - val_loss: 0.0050\n",
            "Epoch 23/100\n",
            "7/7 [==============================] - 1s 105ms/step - loss: 2.1089e-04 - val_loss: 0.0048\n",
            "Epoch 24/100\n",
            "7/7 [==============================] - 1s 103ms/step - loss: 2.2327e-04 - val_loss: 0.0064\n",
            "Epoch 25/100\n",
            "7/7 [==============================] - 1s 100ms/step - loss: 2.2155e-04 - val_loss: 0.0059\n",
            "Epoch 26/100\n",
            "7/7 [==============================] - 1s 97ms/step - loss: 2.0925e-04 - val_loss: 0.0048\n",
            "Epoch 27/100\n",
            "7/7 [==============================] - 1s 104ms/step - loss: 2.1554e-04 - val_loss: 0.0061\n",
            "Epoch 28/100\n",
            "7/7 [==============================] - 1s 100ms/step - loss: 2.0881e-04 - val_loss: 0.0054\n",
            "Epoch 29/100\n",
            "7/7 [==============================] - 1s 98ms/step - loss: 2.0916e-04 - val_loss: 0.0058\n",
            "Epoch 30/100\n",
            "7/7 [==============================] - 1s 178ms/step - loss: 2.1410e-04 - val_loss: 0.0067\n",
            "Epoch 31/100\n",
            "7/7 [==============================] - 1s 178ms/step - loss: 2.0877e-04 - val_loss: 0.0051\n",
            "Epoch 32/100\n",
            "7/7 [==============================] - 1s 98ms/step - loss: 2.0563e-04 - val_loss: 0.0060\n",
            "Epoch 33/100\n",
            "7/7 [==============================] - 1s 97ms/step - loss: 2.0531e-04 - val_loss: 0.0057\n",
            "Epoch 34/100\n",
            "7/7 [==============================] - 1s 106ms/step - loss: 2.0575e-04 - val_loss: 0.0061\n",
            "Epoch 35/100\n",
            "7/7 [==============================] - 1s 103ms/step - loss: 2.0529e-04 - val_loss: 0.0056\n",
            "Epoch 36/100\n",
            "7/7 [==============================] - 1s 102ms/step - loss: 2.0945e-04 - val_loss: 0.0066\n",
            "Epoch 37/100\n",
            "7/7 [==============================] - 1s 100ms/step - loss: 2.1009e-04 - val_loss: 0.0057\n",
            "Epoch 38/100\n",
            "7/7 [==============================] - 1s 98ms/step - loss: 2.0317e-04 - val_loss: 0.0056\n",
            "Epoch 39/100\n",
            "7/7 [==============================] - 1s 100ms/step - loss: 2.0621e-04 - val_loss: 0.0044\n",
            "Epoch 40/100\n",
            "7/7 [==============================] - 1s 101ms/step - loss: 2.1428e-04 - val_loss: 0.0058\n",
            "Epoch 41/100\n",
            "7/7 [==============================] - 1s 99ms/step - loss: 2.0767e-04 - val_loss: 0.0062\n",
            "Epoch 42/100\n",
            "7/7 [==============================] - 1s 100ms/step - loss: 2.1067e-04 - val_loss: 0.0040\n",
            "Epoch 43/100\n",
            "7/7 [==============================] - 1s 103ms/step - loss: 2.2281e-04 - val_loss: 0.0045\n",
            "Epoch 44/100\n",
            "7/7 [==============================] - 1s 96ms/step - loss: 2.0535e-04 - val_loss: 0.0068\n",
            "Epoch 45/100\n",
            "7/7 [==============================] - 1s 100ms/step - loss: 2.0023e-04 - val_loss: 0.0046\n",
            "Epoch 46/100\n",
            "7/7 [==============================] - 1s 132ms/step - loss: 1.9713e-04 - val_loss: 0.0059\n",
            "Epoch 47/100\n",
            "7/7 [==============================] - 1s 154ms/step - loss: 1.9787e-04 - val_loss: 0.0050\n",
            "Epoch 48/100\n",
            "7/7 [==============================] - 1s 181ms/step - loss: 1.9559e-04 - val_loss: 0.0050\n",
            "Epoch 49/100\n",
            "7/7 [==============================] - 1s 104ms/step - loss: 1.9614e-04 - val_loss: 0.0048\n",
            "Epoch 50/100\n",
            "7/7 [==============================] - 1s 98ms/step - loss: 2.0070e-04 - val_loss: 0.0042\n",
            "Epoch 51/100\n",
            "7/7 [==============================] - 1s 100ms/step - loss: 1.9893e-04 - val_loss: 0.0047\n",
            "Epoch 52/100\n",
            "7/7 [==============================] - 1s 103ms/step - loss: 1.9573e-04 - val_loss: 0.0047\n",
            "Epoch 53/100\n",
            "7/7 [==============================] - 1s 102ms/step - loss: 1.9298e-04 - val_loss: 0.0047\n",
            "Epoch 54/100\n",
            "7/7 [==============================] - 1s 101ms/step - loss: 1.9913e-04 - val_loss: 0.0057\n",
            "Epoch 55/100\n",
            "7/7 [==============================] - 1s 100ms/step - loss: 2.1065e-04 - val_loss: 0.0051\n",
            "Epoch 56/100\n",
            "7/7 [==============================] - 1s 98ms/step - loss: 2.1381e-04 - val_loss: 0.0041\n",
            "Epoch 57/100\n",
            "7/7 [==============================] - 1s 101ms/step - loss: 2.1094e-04 - val_loss: 0.0032\n",
            "Epoch 58/100\n",
            "7/7 [==============================] - 1s 97ms/step - loss: 2.2011e-04 - val_loss: 0.0055\n",
            "Epoch 59/100\n",
            "7/7 [==============================] - 1s 97ms/step - loss: 2.2073e-04 - val_loss: 0.0047\n",
            "Epoch 60/100\n",
            "7/7 [==============================] - 1s 101ms/step - loss: 1.9932e-04 - val_loss: 0.0044\n",
            "Epoch 61/100\n",
            "7/7 [==============================] - 1s 97ms/step - loss: 1.9229e-04 - val_loss: 0.0054\n",
            "Epoch 62/100\n",
            "7/7 [==============================] - 1s 99ms/step - loss: 1.9578e-04 - val_loss: 0.0052\n",
            "Epoch 63/100\n",
            "7/7 [==============================] - 1s 152ms/step - loss: 1.9017e-04 - val_loss: 0.0041\n",
            "Epoch 64/100\n",
            "7/7 [==============================] - 1s 179ms/step - loss: 1.9067e-04 - val_loss: 0.0041\n",
            "Epoch 65/100\n",
            "7/7 [==============================] - 1s 128ms/step - loss: 1.9135e-04 - val_loss: 0.0038\n",
            "Epoch 66/100\n",
            "7/7 [==============================] - 1s 100ms/step - loss: 1.9667e-04 - val_loss: 0.0043\n",
            "Epoch 67/100\n",
            "7/7 [==============================] - 1s 99ms/step - loss: 2.0486e-04 - val_loss: 0.0050\n",
            "Epoch 68/100\n",
            "7/7 [==============================] - 1s 101ms/step - loss: 1.9676e-04 - val_loss: 0.0052\n",
            "Epoch 69/100\n",
            "7/7 [==============================] - 1s 102ms/step - loss: 1.9318e-04 - val_loss: 0.0047\n",
            "Epoch 70/100\n",
            "7/7 [==============================] - 1s 100ms/step - loss: 1.8217e-04 - val_loss: 0.0038\n",
            "Epoch 71/100\n",
            "7/7 [==============================] - 1s 101ms/step - loss: 1.8584e-04 - val_loss: 0.0045\n",
            "Epoch 72/100\n",
            "7/7 [==============================] - 1s 101ms/step - loss: 1.8189e-04 - val_loss: 0.0049\n",
            "Epoch 73/100\n",
            "7/7 [==============================] - 1s 99ms/step - loss: 1.8514e-04 - val_loss: 0.0045\n",
            "Epoch 74/100\n",
            "7/7 [==============================] - 1s 100ms/step - loss: 1.8648e-04 - val_loss: 0.0048\n",
            "Epoch 75/100\n",
            "7/7 [==============================] - 1s 100ms/step - loss: 1.9805e-04 - val_loss: 0.0043\n",
            "Epoch 76/100\n",
            "7/7 [==============================] - 1s 97ms/step - loss: 1.8337e-04 - val_loss: 0.0039\n",
            "Epoch 77/100\n",
            "7/7 [==============================] - 1s 100ms/step - loss: 1.8231e-04 - val_loss: 0.0045\n",
            "Epoch 78/100\n",
            "7/7 [==============================] - 1s 103ms/step - loss: 1.8688e-04 - val_loss: 0.0070\n",
            "Epoch 79/100\n",
            "7/7 [==============================] - 1s 99ms/step - loss: 2.1274e-04 - val_loss: 0.0049\n",
            "Epoch 80/100\n",
            "7/7 [==============================] - 1s 174ms/step - loss: 1.9435e-04 - val_loss: 0.0046\n",
            "Epoch 81/100\n",
            "7/7 [==============================] - 1s 183ms/step - loss: 1.8575e-04 - val_loss: 0.0046\n",
            "Epoch 82/100\n",
            "7/7 [==============================] - 1s 100ms/step - loss: 1.7656e-04 - val_loss: 0.0041\n",
            "Epoch 83/100\n",
            "7/7 [==============================] - 1s 98ms/step - loss: 1.7581e-04 - val_loss: 0.0036\n",
            "Epoch 84/100\n",
            "7/7 [==============================] - 1s 101ms/step - loss: 1.7435e-04 - val_loss: 0.0040\n",
            "Epoch 85/100\n",
            "7/7 [==============================] - 1s 97ms/step - loss: 1.7536e-04 - val_loss: 0.0039\n",
            "Epoch 86/100\n",
            "7/7 [==============================] - 1s 101ms/step - loss: 1.7478e-04 - val_loss: 0.0035\n",
            "Epoch 87/100\n",
            "7/7 [==============================] - 1s 96ms/step - loss: 1.7850e-04 - val_loss: 0.0035\n",
            "Epoch 88/100\n",
            "7/7 [==============================] - 1s 104ms/step - loss: 1.7955e-04 - val_loss: 0.0035\n",
            "Epoch 89/100\n",
            "7/7 [==============================] - 1s 102ms/step - loss: 1.9316e-04 - val_loss: 0.0038\n",
            "Epoch 90/100\n",
            "7/7 [==============================] - 1s 99ms/step - loss: 1.7345e-04 - val_loss: 0.0043\n",
            "Epoch 91/100\n",
            "7/7 [==============================] - 1s 97ms/step - loss: 1.6926e-04 - val_loss: 0.0045\n",
            "Epoch 92/100\n",
            "7/7 [==============================] - 1s 101ms/step - loss: 1.7825e-04 - val_loss: 0.0041\n",
            "Epoch 93/100\n",
            "7/7 [==============================] - 1s 102ms/step - loss: 1.7900e-04 - val_loss: 0.0036\n",
            "Epoch 94/100\n",
            "7/7 [==============================] - 1s 101ms/step - loss: 1.6945e-04 - val_loss: 0.0034\n",
            "Epoch 95/100\n",
            "7/7 [==============================] - 1s 103ms/step - loss: 2.0364e-04 - val_loss: 0.0066\n",
            "Epoch 96/100\n",
            "7/7 [==============================] - 1s 142ms/step - loss: 2.3769e-04 - val_loss: 0.0069\n",
            "Epoch 97/100\n",
            "7/7 [==============================] - 1s 180ms/step - loss: 2.4087e-04 - val_loss: 0.0058\n",
            "Epoch 98/100\n",
            "7/7 [==============================] - 1s 142ms/step - loss: 1.9020e-04 - val_loss: 0.0052\n",
            "Epoch 99/100\n",
            "7/7 [==============================] - 1s 100ms/step - loss: 2.1593e-04 - val_loss: 0.0035\n",
            "Epoch 100/100\n",
            "7/7 [==============================] - 1s 102ms/step - loss: 2.2862e-04 - val_loss: 0.0036\n"
          ]
        },
        {
          "output_type": "execute_result",
          "data": {
            "text/plain": [
              "<keras.src.callbacks.History at 0x78febeb55750>"
            ]
          },
          "metadata": {},
          "execution_count": 241
        }
      ]
    },
    {
      "cell_type": "code",
      "source": [
        "### Lets Do the prediction and check performance metrics\n",
        "train_predict=model.predict(X_train)\n",
        "test_predict=model.predict(X_test)"
      ],
      "metadata": {
        "colab": {
          "base_uri": "https://localhost:8080/"
        },
        "id": "XTJlgcEBcpJ3",
        "outputId": "71989b99-f3e7-4607-e670-e9d8587cfe22"
      },
      "execution_count": null,
      "outputs": [
        {
          "output_type": "stream",
          "name": "stdout",
          "text": [
            "14/14 [==============================] - 2s 39ms/step\n",
            "7/7 [==============================] - 2s 22ms/step\n"
          ]
        }
      ]
    },
    {
      "cell_type": "code",
      "source": [
        "##Transformback to original form\n",
        "train_predict=scaler.inverse_transform(train_predict)\n",
        "test_predict=scaler.inverse_transform(test_predict)"
      ],
      "metadata": {
        "id": "0Z9f0zHddhO9"
      },
      "execution_count": null,
      "outputs": []
    },
    {
      "cell_type": "code",
      "source": [
        "### Calculate RMSE performance metrics\n",
        "import math\n",
        "from sklearn.metrics import mean_squared_error\n",
        "math.sqrt(mean_squared_error(y_train,train_predict))"
      ],
      "metadata": {
        "colab": {
          "base_uri": "https://localhost:8080/"
        },
        "id": "ihlc6dcldiqv",
        "outputId": "8ba65c3f-a0bc-4e5a-8105-fbc2b6faf03a"
      },
      "execution_count": null,
      "outputs": [
        {
          "output_type": "execute_result",
          "data": {
            "text/plain": [
              "20.535037832429676"
            ]
          },
          "metadata": {},
          "execution_count": 244
        }
      ]
    },
    {
      "cell_type": "code",
      "source": [
        "### Test Data RMSE\n",
        "math.sqrt(mean_squared_error(ytest,test_predict))"
      ],
      "metadata": {
        "colab": {
          "base_uri": "https://localhost:8080/"
        },
        "id": "FG5PKxdadlrY",
        "outputId": "f570b61a-49aa-4039-b2d0-3855845605c4"
      },
      "execution_count": null,
      "outputs": [
        {
          "output_type": "execute_result",
          "data": {
            "text/plain": [
              "57.384499360820065"
            ]
          },
          "metadata": {},
          "execution_count": 245
        }
      ]
    },
    {
      "cell_type": "code",
      "source": [
        "### Plotting\n",
        "# shift train predictions for plotting\n",
        "look_back=50\n",
        "trainPredictPlot = numpy.empty_like(data)\n",
        "trainPredictPlot[:, :] = np.nan\n",
        "trainPredictPlot[look_back:len(train_predict)+look_back, :] = train_predict\n",
        "# shift test predictions for plotting\n",
        "testPredictPlot = numpy.empty_like(data)\n",
        "testPredictPlot[:, :] = numpy.nan\n",
        "testPredictPlot[len(train_predict)+(look_back*2)+1:len(data)-1, :] = test_predict\n",
        "# plot baseline and predictions\n",
        "plt.plot(scaler.inverse_transform(data))\n",
        "plt.plot(trainPredictPlot)\n",
        "plt.plot(testPredictPlot)\n",
        "plt.show()"
      ],
      "metadata": {
        "colab": {
          "base_uri": "https://localhost:8080/",
          "height": 449
        },
        "id": "mV8cROXPdo-t",
        "outputId": "07eb2eef-1de6-4c09-b5ba-3d68e9e24a0c"
      },
      "execution_count": null,
      "outputs": [
        {
          "output_type": "display_data",
          "data": {
            "text/plain": [
              "<Figure size 640x480 with 1 Axes>"
            ],
            "image/png": "[encoded data removed]"
          },
          "metadata": {}
        }
      ]
    },
    {
      "cell_type": "code",
      "source": [
        "\n",
        "len(test_data)"
      ],
      "metadata": {
        "colab": {
          "base_uri": "https://localhost:8080/"
        },
        "id": "ki5y0IqEd1xX",
        "outputId": "c1c12e12-281e-422b-90e9-52d51757024e"
      },
      "execution_count": null,
      "outputs": [
        {
          "output_type": "execute_result",
          "data": {
            "text/plain": [
              "269"
            ]
          },
          "metadata": {},
          "execution_count": 249
        }
      ]
    },
    {
      "cell_type": "code",
      "source": [
        "x_input=test_data[219:].reshape(1,-1)\n",
        "x_input.shape"
      ],
      "metadata": {
        "colab": {
          "base_uri": "https://localhost:8080/"
        },
        "id": "m8wesmLbd43v",
        "outputId": "89051134-4b42-4161-ed0d-75792b94e2e2"
      },
      "execution_count": null,
      "outputs": [
        {
          "output_type": "execute_result",
          "data": {
            "text/plain": [
              "(1, 50)"
            ]
          },
          "metadata": {},
          "execution_count": 251
        }
      ]
    },
    {
      "cell_type": "code",
      "source": [
        "temp_input=list(x_input)\n",
        "temp_input=temp_input[0].tolist()"
      ],
      "metadata": {
        "id": "XkLZTo8wd-Bp"
      },
      "execution_count": null,
      "outputs": []
    },
    {
      "cell_type": "code",
      "source": [
        "temp_input"
      ],
      "metadata": {
        "colab": {
          "base_uri": "https://localhost:8080/"
        },
        "id": "ZUIynS3LeBZ7",
        "outputId": "4da0b37d-c6a6-46af-bdd8-e44f80c77b6d"
      },
      "execution_count": null,
      "outputs": [
        {
          "output_type": "execute_result",
          "data": {
            "text/plain": [
              "[0.8491463181955783,\n",
              " 0.8458473798531924,\n",
              " 0.8473903104088368,\n",
              " 0.8496151602827614,\n",
              " 0.8860587037010283,\n",
              " 0.9100700256279717,\n",
              " 0.9027281729942866,\n",
              " 0.9035807417667145,\n",
              " 0.8942419490514456,\n",
              " 0.8901487749808888,\n",
              " 0.8749944409791283,\n",
              " 0.8746935538726185,\n",
              " 0.8843918491029541,\n",
              " 0.8764192966525847,\n",
              " 0.8702534433824561,\n",
              " 0.8657596407802048,\n",
              " 0.866222309704143,\n",
              " 0.8876058859591728,\n",
              " 0.8722696418343882,\n",
              " 0.875968729959468,\n",
              " 0.8883030679403995,\n",
              " 0.8839436620380059,\n",
              " 0.8760343092753847,\n",
              " 0.8932474288081726,\n",
              " 0.8879152766831796,\n",
              " 0.8990693325038869,\n",
              " 0.8872161131716727,\n",
              " 0.8943659027856531,\n",
              " 0.9101716738513504,\n",
              " 0.9091958580401214,\n",
              " 0.9238569085340113,\n",
              " 0.9334740042837779,\n",
              " 0.9529166385158787,\n",
              " 0.9523245005407821,\n",
              " 0.9609383158725486,\n",
              " 0.9877861681116344,\n",
              " 0.9810429194876913,\n",
              " 0.9893662672096042,\n",
              " 0.9821770461652752,\n",
              " 0.9912040063425391,\n",
              " 0.9871298358764289,\n",
              " 0.9837201553612756,\n",
              " 0.9878270039478996,\n",
              " 0.9864306426870191,\n",
              " 0.9853901928721396,\n",
              " 0.9934556798024927,\n",
              " 0.9967926133591274,\n",
              " 0.9991847839234544,\n",
              " 0.9999827470865488,\n",
              " 1.0]"
            ]
          },
          "metadata": {},
          "execution_count": 253
        }
      ]
    },
    {
      "cell_type": "code",
      "source": [
        "# demonstrate prediction for next 10 days\n",
        "from numpy import array\n",
        "\n",
        "lst_output=[]\n",
        "n_steps=50\n",
        "i=0\n",
        "while(i<30):\n",
        "\n",
        "    if(len(temp_input)>50):\n",
        "        #print(temp_input)\n",
        "        x_input=np.array(temp_input[1:])\n",
        "        print(\"{} month input {}\".format(i,x_input))\n",
        "        x_input=x_input.reshape(1,-1)\n",
        "        x_input = x_input.reshape((1, n_steps, 1))\n",
        "        #print(x_input)\n",
        "        yhat = model.predict(x_input, verbose=0)\n",
        "        print(\"{} month output {}\".format(i,yhat))\n",
        "        temp_input.extend(yhat[0].tolist())\n",
        "        temp_input=temp_input[1:]\n",
        "        #print(temp_input)\n",
        "        lst_output.extend(yhat.tolist())\n",
        "        i=i+1\n",
        "    else:\n",
        "        x_input = x_input.reshape((1, n_steps,1))\n",
        "        yhat = model.predict(x_input, verbose=0)\n",
        "        print(yhat[0])\n",
        "        temp_input.extend(yhat[0].tolist())\n",
        "        print(len(temp_input))\n",
        "        lst_output.extend(yhat.tolist())\n",
        "        i=i+1\n",
        "\n",
        "print(lst_output)"
      ],
      "metadata": {
        "colab": {
          "base_uri": "https://localhost:8080/"
        },
        "id": "9C29V3T2eFbk",
        "outputId": "183cf958-6418-446a-f3f2-0eb20bc08908"
      },
      "execution_count": null,
      "outputs": [
        {
          "output_type": "stream",
          "name": "stdout",
          "text": [
            "0 month input [0.92385691 0.933474   0.95291664 0.9523245  0.96093832 0.98778617\n",
            " 0.98104292 0.98936627 0.98217705 0.99120401 0.98712984 0.98372016\n",
            " 0.987827   0.98643064 0.98539019 0.99345568 0.99679261 0.99918478\n",
            " 0.99998275 1.         0.88981843 0.88813096 0.88352644 0.87670702\n",
            " 0.86849332 0.8595826  0.85048151 0.84151751 0.83287829 0.82465476\n",
            " 0.81687623 0.80953723 0.80261284 0.79607183 0.78988141 0.78400999\n",
            " 0.77842915 0.77311349 0.76804024 0.76319081 0.75854766 0.75409585\n",
            " 0.74982232 0.7457155  0.74176437 0.73796016 0.73429453 0.73075992\n",
            " 0.72734934 0.72405642]\n",
            "0 month output [[0.72087616]]\n",
            "1 month input [0.933474   0.95291664 0.9523245  0.96093832 0.98778617 0.98104292\n",
            " 0.98936627 0.98217705 0.99120401 0.98712984 0.98372016 0.987827\n",
            " 0.98643064 0.98539019 0.99345568 0.99679261 0.99918478 0.99998275\n",
            " 1.         0.88981843 0.88813096 0.88352644 0.87670702 0.86849332\n",
            " 0.8595826  0.85048151 0.84151751 0.83287829 0.82465476 0.81687623\n",
            " 0.80953723 0.80261284 0.79607183 0.78988141 0.78400999 0.77842915\n",
            " 0.77311349 0.76804024 0.76319081 0.75854766 0.75409585 0.74982232\n",
            " 0.7457155  0.74176437 0.73796016 0.73429453 0.73075992 0.72734934\n",
            " 0.72405642 0.72087616]\n",
            "1 month output [[0.7178029]]\n",
            "2 month input [0.95291664 0.9523245  0.96093832 0.98778617 0.98104292 0.98936627\n",
            " 0.98217705 0.99120401 0.98712984 0.98372016 0.987827   0.98643064\n",
            " 0.98539019 0.99345568 0.99679261 0.99918478 0.99998275 1.\n",
            " 0.88981843 0.88813096 0.88352644 0.87670702 0.86849332 0.8595826\n",
            " 0.85048151 0.84151751 0.83287829 0.82465476 0.81687623 0.80953723\n",
            " 0.80261284 0.79607183 0.78988141 0.78400999 0.77842915 0.77311349\n",
            " 0.76804024 0.76319081 0.75854766 0.75409585 0.74982232 0.7457155\n",
            " 0.74176437 0.73796016 0.73429453 0.73075992 0.72734934 0.72405642\n",
            " 0.72087616 0.71780288]\n",
            "2 month output [[0.714832]]\n",
            "3 month input [0.9523245  0.96093832 0.98778617 0.98104292 0.98936627 0.98217705\n",
            " 0.99120401 0.98712984 0.98372016 0.987827   0.98643064 0.98539019\n",
            " 0.99345568 0.99679261 0.99918478 0.99998275 1.         0.88981843\n",
            " 0.88813096 0.88352644 0.87670702 0.86849332 0.8595826  0.85048151\n",
            " 0.84151751 0.83287829 0.82465476 0.81687623 0.80953723 0.80261284\n",
            " 0.79607183 0.78988141 0.78400999 0.77842915 0.77311349 0.76804024\n",
            " 0.76319081 0.75854766 0.75409585 0.74982232 0.7457155  0.74176437\n",
            " 0.73796016 0.73429453 0.73075992 0.72734934 0.72405642 0.72087616\n",
            " 0.71780288 0.71483201]\n",
            "3 month output [[0.7119589]]\n",
            "4 month input [0.96093832 0.98778617 0.98104292 0.98936627 0.98217705 0.99120401\n",
            " 0.98712984 0.98372016 0.987827   0.98643064 0.98539019 0.99345568\n",
            " 0.99679261 0.99918478 0.99998275 1.         0.88981843 0.88813096\n",
            " 0.88352644 0.87670702 0.86849332 0.8595826  0.85048151 0.84151751\n",
            " 0.83287829 0.82465476 0.81687623 0.80953723 0.80261284 0.79607183\n",
            " 0.78988141 0.78400999 0.77842915 0.77311349 0.76804024 0.76319081\n",
            " 0.75854766 0.75409585 0.74982232 0.7457155  0.74176437 0.73796016\n",
            " 0.73429453 0.73075992 0.72734934 0.72405642 0.72087616 0.71780288\n",
            " 0.71483201 0.71195889]\n",
            "4 month output [[0.7091796]]\n",
            "5 month input [0.98778617 0.98104292 0.98936627 0.98217705 0.99120401 0.98712984\n",
            " 0.98372016 0.987827   0.98643064 0.98539019 0.99345568 0.99679261\n",
            " 0.99918478 0.99998275 1.         0.88981843 0.88813096 0.88352644\n",
            " 0.87670702 0.86849332 0.8595826  0.85048151 0.84151751 0.83287829\n",
            " 0.82465476 0.81687623 0.80953723 0.80261284 0.79607183 0.78988141\n",
            " 0.78400999 0.77842915 0.77311349 0.76804024 0.76319081 0.75854766\n",
            " 0.75409585 0.74982232 0.7457155  0.74176437 0.73796016 0.73429453\n",
            " 0.73075992 0.72734934 0.72405642 0.72087616 0.71780288 0.71483201\n",
            " 0.71195889 0.70917958]\n",
            "5 month output [[0.7064906]]\n",
            "6 month input [0.98104292 0.98936627 0.98217705 0.99120401 0.98712984 0.98372016\n",
            " 0.987827   0.98643064 0.98539019 0.99345568 0.99679261 0.99918478\n",
            " 0.99998275 1.         0.88981843 0.88813096 0.88352644 0.87670702\n",
            " 0.86849332 0.8595826  0.85048151 0.84151751 0.83287829 0.82465476\n",
            " 0.81687623 0.80953723 0.80261284 0.79607183 0.78988141 0.78400999\n",
            " 0.77842915 0.77311349 0.76804024 0.76319081 0.75854766 0.75409585\n",
            " 0.74982232 0.7457155  0.74176437 0.73796016 0.73429453 0.73075992\n",
            " 0.72734934 0.72405642 0.72087616 0.71780288 0.71483201 0.71195889\n",
            " 0.70917958 0.70649058]\n",
            "6 month output [[0.7038877]]\n",
            "7 month input [0.98936627 0.98217705 0.99120401 0.98712984 0.98372016 0.987827\n",
            " 0.98643064 0.98539019 0.99345568 0.99679261 0.99918478 0.99998275\n",
            " 1.         0.88981843 0.88813096 0.88352644 0.87670702 0.86849332\n",
            " 0.8595826  0.85048151 0.84151751 0.83287829 0.82465476 0.81687623\n",
            " 0.80953723 0.80261284 0.79607183 0.78988141 0.78400999 0.77842915\n",
            " 0.77311349 0.76804024 0.76319081 0.75854766 0.75409585 0.74982232\n",
            " 0.7457155  0.74176437 0.73796016 0.73429453 0.73075992 0.72734934\n",
            " 0.72405642 0.72087616 0.71780288 0.71483201 0.71195889 0.70917958\n",
            " 0.70649058 0.7038877 ]\n",
            "7 month output [[0.70136786]]\n",
            "8 month input [0.98217705 0.99120401 0.98712984 0.98372016 0.987827   0.98643064\n",
            " 0.98539019 0.99345568 0.99679261 0.99918478 0.99998275 1.\n",
            " 0.88981843 0.88813096 0.88352644 0.87670702 0.86849332 0.8595826\n",
            " 0.85048151 0.84151751 0.83287829 0.82465476 0.81687623 0.80953723\n",
            " 0.80261284 0.79607183 0.78988141 0.78400999 0.77842915 0.77311349\n",
            " 0.76804024 0.76319081 0.75854766 0.75409585 0.74982232 0.7457155\n",
            " 0.74176437 0.73796016 0.73429453 0.73075992 0.72734934 0.72405642\n",
            " 0.72087616 0.71780288 0.71483201 0.71195889 0.70917958 0.70649058\n",
            " 0.7038877  0.70136786]\n",
            "8 month output [[0.6989278]]\n",
            "9 month input [0.99120401 0.98712984 0.98372016 0.987827   0.98643064 0.98539019\n",
            " 0.99345568 0.99679261 0.99918478 0.99998275 1.         0.88981843\n",
            " 0.88813096 0.88352644 0.87670702 0.86849332 0.8595826  0.85048151\n",
            " 0.84151751 0.83287829 0.82465476 0.81687623 0.80953723 0.80261284\n",
            " 0.79607183 0.78988141 0.78400999 0.77842915 0.77311349 0.76804024\n",
            " 0.76319081 0.75854766 0.75409585 0.74982232 0.7457155  0.74176437\n",
            " 0.73796016 0.73429453 0.73075992 0.72734934 0.72405642 0.72087616\n",
            " 0.71780288 0.71483201 0.71195889 0.70917958 0.70649058 0.7038877\n",
            " 0.70136786 0.69892782]\n",
            "9 month output [[0.6965648]]\n",
            "10 month input [0.98712984 0.98372016 0.987827   0.98643064 0.98539019 0.99345568\n",
            " 0.99679261 0.99918478 0.99998275 1.         0.88981843 0.88813096\n",
            " 0.88352644 0.87670702 0.86849332 0.8595826  0.85048151 0.84151751\n",
            " 0.83287829 0.82465476 0.81687623 0.80953723 0.80261284 0.79607183\n",
            " 0.78988141 0.78400999 0.77842915 0.77311349 0.76804024 0.76319081\n",
            " 0.75854766 0.75409585 0.74982232 0.7457155  0.74176437 0.73796016\n",
            " 0.73429453 0.73075992 0.72734934 0.72405642 0.72087616 0.71780288\n",
            " 0.71483201 0.71195889 0.70917958 0.70649058 0.7038877  0.70136786\n",
            " 0.69892782 0.69656479]\n",
            "10 month output [[0.69427556]]\n",
            "11 month input [0.98372016 0.987827   0.98643064 0.98539019 0.99345568 0.99679261\n",
            " 0.99918478 0.99998275 1.         0.88981843 0.88813096 0.88352644\n",
            " 0.87670702 0.86849332 0.8595826  0.85048151 0.84151751 0.83287829\n",
            " 0.82465476 0.81687623 0.80953723 0.80261284 0.79607183 0.78988141\n",
            " 0.78400999 0.77842915 0.77311349 0.76804024 0.76319081 0.75854766\n",
            " 0.75409585 0.74982232 0.7457155  0.74176437 0.73796016 0.73429453\n",
            " 0.73075992 0.72734934 0.72405642 0.72087616 0.71780288 0.71483201\n",
            " 0.71195889 0.70917958 0.70649058 0.7038877  0.70136786 0.69892782\n",
            " 0.69656479 0.69427556]\n",
            "11 month output [[0.6920575]]\n",
            "12 month input [0.987827   0.98643064 0.98539019 0.99345568 0.99679261 0.99918478\n",
            " 0.99998275 1.         0.88981843 0.88813096 0.88352644 0.87670702\n",
            " 0.86849332 0.8595826  0.85048151 0.84151751 0.83287829 0.82465476\n",
            " 0.81687623 0.80953723 0.80261284 0.79607183 0.78988141 0.78400999\n",
            " 0.77842915 0.77311349 0.76804024 0.76319081 0.75854766 0.75409585\n",
            " 0.74982232 0.7457155  0.74176437 0.73796016 0.73429453 0.73075992\n",
            " 0.72734934 0.72405642 0.72087616 0.71780288 0.71483201 0.71195889\n",
            " 0.70917958 0.70649058 0.7038877  0.70136786 0.69892782 0.69656479\n",
            " 0.69427556 0.69205749]\n",
            "12 month output [[0.689908]]\n",
            "13 month input [0.98643064 0.98539019 0.99345568 0.99679261 0.99918478 0.99998275\n",
            " 1.         0.88981843 0.88813096 0.88352644 0.87670702 0.86849332\n",
            " 0.8595826  0.85048151 0.84151751 0.83287829 0.82465476 0.81687623\n",
            " 0.80953723 0.80261284 0.79607183 0.78988141 0.78400999 0.77842915\n",
            " 0.77311349 0.76804024 0.76319081 0.75854766 0.75409585 0.74982232\n",
            " 0.7457155  0.74176437 0.73796016 0.73429453 0.73075992 0.72734934\n",
            " 0.72405642 0.72087616 0.71780288 0.71483201 0.71195889 0.70917958\n",
            " 0.70649058 0.7038877  0.70136786 0.69892782 0.69656479 0.69427556\n",
            " 0.69205749 0.68990803]\n",
            "13 month output [[0.6878244]]\n",
            "14 month input [0.98539019 0.99345568 0.99679261 0.99918478 0.99998275 1.\n",
            " 0.88981843 0.88813096 0.88352644 0.87670702 0.86849332 0.8595826\n",
            " 0.85048151 0.84151751 0.83287829 0.82465476 0.81687623 0.80953723\n",
            " 0.80261284 0.79607183 0.78988141 0.78400999 0.77842915 0.77311349\n",
            " 0.76804024 0.76319081 0.75854766 0.75409585 0.74982232 0.7457155\n",
            " 0.74176437 0.73796016 0.73429453 0.73075992 0.72734934 0.72405642\n",
            " 0.72087616 0.71780288 0.71483201 0.71195889 0.70917958 0.70649058\n",
            " 0.7038877  0.70136786 0.69892782 0.69656479 0.69427556 0.69205749\n",
            " 0.68990803 0.68782443]\n",
            "14 month output [[0.6858045]]\n",
            "15 month input [0.99345568 0.99679261 0.99918478 0.99998275 1.         0.88981843\n",
            " 0.88813096 0.88352644 0.87670702 0.86849332 0.8595826  0.85048151\n",
            " 0.84151751 0.83287829 0.82465476 0.81687623 0.80953723 0.80261284\n",
            " 0.79607183 0.78988141 0.78400999 0.77842915 0.77311349 0.76804024\n",
            " 0.76319081 0.75854766 0.75409585 0.74982232 0.7457155  0.74176437\n",
            " 0.73796016 0.73429453 0.73075992 0.72734934 0.72405642 0.72087616\n",
            " 0.71780288 0.71483201 0.71195889 0.70917958 0.70649058 0.7038877\n",
            " 0.70136786 0.69892782 0.69656479 0.69427556 0.69205749 0.68990803\n",
            " 0.68782443 0.68580449]\n",
            "15 month output [[0.683846]]\n",
            "16 month input [0.99679261 0.99918478 0.99998275 1.         0.88981843 0.88813096\n",
            " 0.88352644 0.87670702 0.86849332 0.8595826  0.85048151 0.84151751\n",
            " 0.83287829 0.82465476 0.81687623 0.80953723 0.80261284 0.79607183\n",
            " 0.78988141 0.78400999 0.77842915 0.77311349 0.76804024 0.76319081\n",
            " 0.75854766 0.75409585 0.74982232 0.7457155  0.74176437 0.73796016\n",
            " 0.73429453 0.73075992 0.72734934 0.72405642 0.72087616 0.71780288\n",
            " 0.71483201 0.71195889 0.70917958 0.70649058 0.7038877  0.70136786\n",
            " 0.69892782 0.69656479 0.69427556 0.69205749 0.68990803 0.68782443\n",
            " 0.68580449 0.683846  ]\n",
            "16 month output [[0.6819464]]\n",
            "17 month input [0.99918478 0.99998275 1.         0.88981843 0.88813096 0.88352644\n",
            " 0.87670702 0.86849332 0.8595826  0.85048151 0.84151751 0.83287829\n",
            " 0.82465476 0.81687623 0.80953723 0.80261284 0.79607183 0.78988141\n",
            " 0.78400999 0.77842915 0.77311349 0.76804024 0.76319081 0.75854766\n",
            " 0.75409585 0.74982232 0.7457155  0.74176437 0.73796016 0.73429453\n",
            " 0.73075992 0.72734934 0.72405642 0.72087616 0.71780288 0.71483201\n",
            " 0.71195889 0.70917958 0.70649058 0.7038877  0.70136786 0.69892782\n",
            " 0.69656479 0.69427556 0.69205749 0.68990803 0.68782443 0.68580449\n",
            " 0.683846   0.6819464 ]\n",
            "17 month output [[0.68010396]]\n",
            "18 month input [0.99998275 1.         0.88981843 0.88813096 0.88352644 0.87670702\n",
            " 0.86849332 0.8595826  0.85048151 0.84151751 0.83287829 0.82465476\n",
            " 0.81687623 0.80953723 0.80261284 0.79607183 0.78988141 0.78400999\n",
            " 0.77842915 0.77311349 0.76804024 0.76319081 0.75854766 0.75409585\n",
            " 0.74982232 0.7457155  0.74176437 0.73796016 0.73429453 0.73075992\n",
            " 0.72734934 0.72405642 0.72087616 0.71780288 0.71483201 0.71195889\n",
            " 0.70917958 0.70649058 0.7038877  0.70136786 0.69892782 0.69656479\n",
            " 0.69427556 0.69205749 0.68990803 0.68782443 0.68580449 0.683846\n",
            " 0.6819464  0.68010396]\n",
            "18 month output [[0.6783164]]\n",
            "19 month input [1.         0.88981843 0.88813096 0.88352644 0.87670702 0.86849332\n",
            " 0.8595826  0.85048151 0.84151751 0.83287829 0.82465476 0.81687623\n",
            " 0.80953723 0.80261284 0.79607183 0.78988141 0.78400999 0.77842915\n",
            " 0.77311349 0.76804024 0.76319081 0.75854766 0.75409585 0.74982232\n",
            " 0.7457155  0.74176437 0.73796016 0.73429453 0.73075992 0.72734934\n",
            " 0.72405642 0.72087616 0.71780288 0.71483201 0.71195889 0.70917958\n",
            " 0.70649058 0.7038877  0.70136786 0.69892782 0.69656479 0.69427556\n",
            " 0.69205749 0.68990803 0.68782443 0.68580449 0.683846   0.6819464\n",
            " 0.68010396 0.67831641]\n",
            "19 month output [[0.6765822]]\n",
            "20 month input [0.88981843 0.88813096 0.88352644 0.87670702 0.86849332 0.8595826\n",
            " 0.85048151 0.84151751 0.83287829 0.82465476 0.81687623 0.80953723\n",
            " 0.80261284 0.79607183 0.78988141 0.78400999 0.77842915 0.77311349\n",
            " 0.76804024 0.76319081 0.75854766 0.75409585 0.74982232 0.7457155\n",
            " 0.74176437 0.73796016 0.73429453 0.73075992 0.72734934 0.72405642\n",
            " 0.72087616 0.71780288 0.71483201 0.71195889 0.70917958 0.70649058\n",
            " 0.7038877  0.70136786 0.69892782 0.69656479 0.69427556 0.69205749\n",
            " 0.68990803 0.68782443 0.68580449 0.683846   0.6819464  0.68010396\n",
            " 0.67831641 0.67658222]\n",
            "20 month output [[0.6748991]]\n",
            "21 month input [0.88813096 0.88352644 0.87670702 0.86849332 0.8595826  0.85048151\n",
            " 0.84151751 0.83287829 0.82465476 0.81687623 0.80953723 0.80261284\n",
            " 0.79607183 0.78988141 0.78400999 0.77842915 0.77311349 0.76804024\n",
            " 0.76319081 0.75854766 0.75409585 0.74982232 0.7457155  0.74176437\n",
            " 0.73796016 0.73429453 0.73075992 0.72734934 0.72405642 0.72087616\n",
            " 0.71780288 0.71483201 0.71195889 0.70917958 0.70649058 0.7038877\n",
            " 0.70136786 0.69892782 0.69656479 0.69427556 0.69205749 0.68990803\n",
            " 0.68782443 0.68580449 0.683846   0.6819464  0.68010396 0.67831641\n",
            " 0.67658222 0.6748991 ]\n",
            "21 month output [[0.6732672]]\n",
            "22 month input [0.88352644 0.87670702 0.86849332 0.8595826  0.85048151 0.84151751\n",
            " 0.83287829 0.82465476 0.81687623 0.80953723 0.80261284 0.79607183\n",
            " 0.78988141 0.78400999 0.77842915 0.77311349 0.76804024 0.76319081\n",
            " 0.75854766 0.75409585 0.74982232 0.7457155  0.74176437 0.73796016\n",
            " 0.73429453 0.73075992 0.72734934 0.72405642 0.72087616 0.71780288\n",
            " 0.71483201 0.71195889 0.70917958 0.70649058 0.7038877  0.70136786\n",
            " 0.69892782 0.69656479 0.69427556 0.69205749 0.68990803 0.68782443\n",
            " 0.68580449 0.683846   0.6819464  0.68010396 0.67831641 0.67658222\n",
            " 0.6748991  0.67326719]\n",
            "22 month output [[0.67168283]]\n",
            "23 month input [0.87670702 0.86849332 0.8595826  0.85048151 0.84151751 0.83287829\n",
            " 0.82465476 0.81687623 0.80953723 0.80261284 0.79607183 0.78988141\n",
            " 0.78400999 0.77842915 0.77311349 0.76804024 0.76319081 0.75854766\n",
            " 0.75409585 0.74982232 0.7457155  0.74176437 0.73796016 0.73429453\n",
            " 0.73075992 0.72734934 0.72405642 0.72087616 0.71780288 0.71483201\n",
            " 0.71195889 0.70917958 0.70649058 0.7038877  0.70136786 0.69892782\n",
            " 0.69656479 0.69427556 0.69205749 0.68990803 0.68782443 0.68580449\n",
            " 0.683846   0.6819464  0.68010396 0.67831641 0.67658222 0.6748991\n",
            " 0.67326719 0.67168283]\n",
            "23 month output [[0.6701445]]\n",
            "24 month input [0.86849332 0.8595826  0.85048151 0.84151751 0.83287829 0.82465476\n",
            " 0.81687623 0.80953723 0.80261284 0.79607183 0.78988141 0.78400999\n",
            " 0.77842915 0.77311349 0.76804024 0.76319081 0.75854766 0.75409585\n",
            " 0.74982232 0.7457155  0.74176437 0.73796016 0.73429453 0.73075992\n",
            " 0.72734934 0.72405642 0.72087616 0.71780288 0.71483201 0.71195889\n",
            " 0.70917958 0.70649058 0.7038877  0.70136786 0.69892782 0.69656479\n",
            " 0.69427556 0.69205749 0.68990803 0.68782443 0.68580449 0.683846\n",
            " 0.6819464  0.68010396 0.67831641 0.67658222 0.6748991  0.67326719\n",
            " 0.67168283 0.6701445 ]\n",
            "24 month output [[0.66865057]]\n",
            "25 month input [0.8595826  0.85048151 0.84151751 0.83287829 0.82465476 0.81687623\n",
            " 0.80953723 0.80261284 0.79607183 0.78988141 0.78400999 0.77842915\n",
            " 0.77311349 0.76804024 0.76319081 0.75854766 0.75409585 0.74982232\n",
            " 0.7457155  0.74176437 0.73796016 0.73429453 0.73075992 0.72734934\n",
            " 0.72405642 0.72087616 0.71780288 0.71483201 0.71195889 0.70917958\n",
            " 0.70649058 0.7038877  0.70136786 0.69892782 0.69656479 0.69427556\n",
            " 0.69205749 0.68990803 0.68782443 0.68580449 0.683846   0.6819464\n",
            " 0.68010396 0.67831641 0.67658222 0.6748991  0.67326719 0.67168283\n",
            " 0.6701445  0.66865057]\n",
            "25 month output [[0.6671998]]\n",
            "26 month input [0.85048151 0.84151751 0.83287829 0.82465476 0.81687623 0.80953723\n",
            " 0.80261284 0.79607183 0.78988141 0.78400999 0.77842915 0.77311349\n",
            " 0.76804024 0.76319081 0.75854766 0.75409585 0.74982232 0.7457155\n",
            " 0.74176437 0.73796016 0.73429453 0.73075992 0.72734934 0.72405642\n",
            " 0.72087616 0.71780288 0.71483201 0.71195889 0.70917958 0.70649058\n",
            " 0.7038877  0.70136786 0.69892782 0.69656479 0.69427556 0.69205749\n",
            " 0.68990803 0.68782443 0.68580449 0.683846   0.6819464  0.68010396\n",
            " 0.67831641 0.67658222 0.6748991  0.67326719 0.67168283 0.6701445\n",
            " 0.66865057 0.66719979]\n",
            "26 month output [[0.66579086]]\n",
            "27 month input [0.84151751 0.83287829 0.82465476 0.81687623 0.80953723 0.80261284\n",
            " 0.79607183 0.78988141 0.78400999 0.77842915 0.77311349 0.76804024\n",
            " 0.76319081 0.75854766 0.75409585 0.74982232 0.7457155  0.74176437\n",
            " 0.73796016 0.73429453 0.73075992 0.72734934 0.72405642 0.72087616\n",
            " 0.71780288 0.71483201 0.71195889 0.70917958 0.70649058 0.7038877\n",
            " 0.70136786 0.69892782 0.69656479 0.69427556 0.69205749 0.68990803\n",
            " 0.68782443 0.68580449 0.683846   0.6819464  0.68010396 0.67831641\n",
            " 0.67658222 0.6748991  0.67326719 0.67168283 0.6701445  0.66865057\n",
            " 0.66719979 0.66579086]\n",
            "27 month output [[0.66442215]]\n",
            "28 month input [0.83287829 0.82465476 0.81687623 0.80953723 0.80261284 0.79607183\n",
            " 0.78988141 0.78400999 0.77842915 0.77311349 0.76804024 0.76319081\n",
            " 0.75854766 0.75409585 0.74982232 0.7457155  0.74176437 0.73796016\n",
            " 0.73429453 0.73075992 0.72734934 0.72405642 0.72087616 0.71780288\n",
            " 0.71483201 0.71195889 0.70917958 0.70649058 0.7038877  0.70136786\n",
            " 0.69892782 0.69656479 0.69427556 0.69205749 0.68990803 0.68782443\n",
            " 0.68580449 0.683846   0.6819464  0.68010396 0.67831641 0.67658222\n",
            " 0.6748991  0.67326719 0.67168283 0.6701445  0.66865057 0.66719979\n",
            " 0.66579086 0.66442215]\n",
            "28 month output [[0.6630922]]\n",
            "29 month input [0.82465476 0.81687623 0.80953723 0.80261284 0.79607183 0.78988141\n",
            " 0.78400999 0.77842915 0.77311349 0.76804024 0.76319081 0.75854766\n",
            " 0.75409585 0.74982232 0.7457155  0.74176437 0.73796016 0.73429453\n",
            " 0.73075992 0.72734934 0.72405642 0.72087616 0.71780288 0.71483201\n",
            " 0.71195889 0.70917958 0.70649058 0.7038877  0.70136786 0.69892782\n",
            " 0.69656479 0.69427556 0.69205749 0.68990803 0.68782443 0.68580449\n",
            " 0.683846   0.6819464  0.68010396 0.67831641 0.67658222 0.6748991\n",
            " 0.67326719 0.67168283 0.6701445  0.66865057 0.66719979 0.66579086\n",
            " 0.66442215 0.6630922 ]\n",
            "29 month output [[0.6618004]]\n",
            "[[0.720876157283783], [0.717802882194519], [0.7148320078849792], [0.7119588851928711], [0.7091795802116394], [0.7064905762672424], [0.7038877010345459], [0.7013678550720215], [0.6989278197288513], [0.696564793586731], [0.6942755579948425], [0.6920574903488159], [0.6899080276489258], [0.6878244280815125], [0.6858044862747192], [0.6838459968566895], [0.6819463968276978], [0.6801039576530457], [0.6783164143562317], [0.6765822172164917], [0.6748991012573242], [0.6732671856880188], [0.6716828346252441], [0.6701444983482361], [0.6686505675315857], [0.6671997904777527], [0.665790855884552], [0.6644221544265747], [0.6630921959877014], [0.6618003845214844]]\n"
          ]
        }
      ]
    },
    {
      "cell_type": "code",
      "source": [
        "day_new=np.arange(1,51)\n",
        "day_pred=np.arange(51, 81)"
      ],
      "metadata": {
        "id": "4hLaI_kGeXql"
      },
      "execution_count": null,
      "outputs": []
    },
    {
      "cell_type": "code",
      "source": [
        "import matplotlib.pyplot as plt"
      ],
      "metadata": {
        "id": "7cyZPJXNeefE"
      },
      "execution_count": null,
      "outputs": []
    },
    {
      "cell_type": "code",
      "source": [
        "len(data)"
      ],
      "metadata": {
        "colab": {
          "base_uri": "https://localhost:8080/"
        },
        "id": "SA5bYnQcegLe",
        "outputId": "7443036a-85a9-41ec-b180-8cff59e7f9e3"
      },
      "execution_count": null,
      "outputs": [
        {
          "output_type": "execute_result",
          "data": {
            "text/plain": [
              "798"
            ]
          },
          "metadata": {},
          "execution_count": 268
        }
      ]
    },
    {
      "cell_type": "code",
      "source": [
        "plt.plot(day_new,scaler.inverse_transform(data[748:]))\n",
        "plt.plot(day_pred,scaler.inverse_transform(lst_output))"
      ],
      "metadata": {
        "colab": {
          "base_uri": "https://localhost:8080/",
          "height": 466
        },
        "id": "pi9JMvjwejUL",
        "outputId": "4c461b27-715a-43d4-ea36-d70737a9c2fb"
      },
      "execution_count": null,
      "outputs": [
        {
          "output_type": "execute_result",
          "data": {
            "text/plain": [
              "[<matplotlib.lines.Line2D at 0x78feb9f94a60>]"
            ]
          },
          "metadata": {},
          "execution_count": 270
        },
        {
          "output_type": "display_data",
          "data": {
            "text/plain": [
              "<Figure size 640x480 with 1 Axes>"
            ],
            "image/png": "[encoded data removed]"
          },
          "metadata": {}
        }
      ]
    },
    {
      "cell_type": "code",
      "source": [
        "data1 = np.array(data).tolist()\n",
        "data1.extend(lst_output)\n",
        "plt.plot(data1[500:])"
      ],
      "metadata": {
        "colab": {
          "base_uri": "https://localhost:8080/",
          "height": 466
        },
        "id": "WfwTCfNfeuY2",
        "outputId": "6d2632c5-7486-457e-a891-4d80d045e8f5"
      },
      "execution_count": null,
      "outputs": [
        {
          "output_type": "execute_result",
          "data": {
            "text/plain": [
              "[<matplotlib.lines.Line2D at 0x78feba01c5b0>]"
            ]
          },
          "metadata": {},
          "execution_count": 273
        },
        {
          "output_type": "display_data",
          "data": {
            "text/plain": [
              "<Figure size 640x480 with 1 Axes>"
            ],
            "image/png": "[encoded data removed]"
          },
          "metadata": {}
        }
      ]
    },
    {
      "cell_type": "code",
      "source": [
        "data1=scaler.inverse_transform(data1).tolist()"
      ],
      "metadata": {
        "id": "V06U_1Mpe1Eg"
      },
      "execution_count": null,
      "outputs": []
    },
    {
      "cell_type": "code",
      "source": [
        "plt.plot(data1)"
      ],
      "metadata": {
        "colab": {
          "base_uri": "https://localhost:8080/",
          "height": 466
        },
        "id": "kl_bLAY8e4pz",
        "outputId": "18d1baef-1810-482b-8d29-98ded7336eae"
      },
      "execution_count": null,
      "outputs": [
        {
          "output_type": "execute_result",
          "data": {
            "text/plain": [
              "[<matplotlib.lines.Line2D at 0x78feb9e8bdf0>]"
            ]
          },
          "metadata": {},
          "execution_count": 275
        },
        {
          "output_type": "display_data",
          "data": {
            "text/plain": [
              "<Figure size 640x480 with 1 Axes>"
            ],
            "image/png": "[encoded data removed]"
          },
          "metadata": {}
        }
      ]
    },
    {
      "cell_type": "code",
      "source": [],
      "metadata": {
        "id": "8cVaSfqEFxIY"
      },
      "execution_count": null,
      "outputs": []
    }
  ]
}